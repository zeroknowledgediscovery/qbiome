{
 "cells": [
  {
   "attachments": {},
   "cell_type": "markdown",
   "id": "76004f0d-9b32-45e9-b97c-3da6b98d6beb",
   "metadata": {},
   "source": [
    "# Computation of SHAP values for prediction of risk from clinical factors"
   ]
  },
  {
   "cell_type": "code",
   "execution_count": 1,
   "id": "d9535db9-2aba-46d0-8466-6decc3dcc0de",
   "metadata": {},
   "outputs": [],
   "source": [
    "import matplotlib as mpl\n",
    "import matplotlib.pyplot as plt\n",
    "import numpy as np\n",
    "import pandas as pd\n",
    "import shap\n",
    "\n",
    "\n",
    "from sklearn.ensemble import (\n",
    "    RandomForestRegressor,\n",
    ")\n",
    "\n",
    "from tqdm.notebook import tqdm\n",
    "\n",
    "\n",
    "median_risk_df = pd.read_csv(\"median_risk.csv\")\n",
    "clinical_data = pd.read_csv(\"clinical_factors.csv\")\n",
    "clinical_vars = clinical_data.columns"
   ]
  },
  {
   "cell_type": "code",
   "execution_count": 2,
   "id": "b9794e4f",
   "metadata": {},
   "outputs": [],
   "source": [
    "X_train = clinical_data\n",
    "y_train = pd.concat([median_risk_df[[\"nan weeks: none\"]]]).rename(\n",
    "    columns={\"nan weeks: none\": \"risk\"}\n",
    ")"
   ]
  },
  {
   "cell_type": "code",
   "execution_count": 3,
   "id": "9f621a3e-8b2e-4f0f-9a73-b12f48659305",
   "metadata": {},
   "outputs": [],
   "source": [
    "def _get_rf_sv(X_train, y_train):\n",
    "    rf = RandomForestRegressor(oob_score=True)\n",
    "    rf.fit(X_train, y_train)\n",
    "\n",
    "    rf_exp = shap.TreeExplainer(rf)\n",
    "    rf_sv = np.array(rf_exp.shap_values(X_train))\n",
    "    rf_ev = np.array(rf_exp.expected_value)\n",
    "    \n",
    "    return rf_sv"
   ]
  },
  {
   "cell_type": "code",
   "execution_count": 4,
   "id": "fd7541aa-7422-48df-b199-bf83bb16e530",
   "metadata": {},
   "outputs": [
    {
     "data": {
      "application/vnd.jupyter.widget-view+json": {
       "model_id": "f72bdd3782dd4e3b8d5511fca25acb74",
       "version_major": 2,
       "version_minor": 0
      },
      "text/plain": [
       "  0%|          | 0/100 [00:00<?, ?it/s]"
      ]
     },
     "metadata": {},
     "output_type": "display_data"
    }
   ],
   "source": [
    "rf_sv = [_get_rf_sv(X_train, y_train.values.ravel()) for i in tqdm(range(100))]"
   ]
  },
  {
   "cell_type": "code",
   "execution_count": 5,
   "id": "6a00e8e8-beae-42fd-9783-c90c5313c367",
   "metadata": {},
   "outputs": [],
   "source": [
    "rf_sv = np.mean(np.stack(rf_sv, axis=-1), axis=-1)"
   ]
  },
  {
   "attachments": {},
   "cell_type": "markdown",
   "id": "4b20c9ae",
   "metadata": {},
   "source": [
    "# Shap values:"
   ]
  },
  {
   "cell_type": "code",
   "execution_count": 6,
   "id": "1e9c2e71-20af-4070-abb6-f5292023b5b0",
   "metadata": {},
   "outputs": [
    {
     "data": {
      "text/plain": [
       "array([[-8.49024710e-03, -8.71296086e-04, -6.47474942e-02, ...,\n",
       "        -1.42667189e-04, -1.51923514e-03,  1.45651195e-03],\n",
       "       [-5.18194584e-03, -1.52977863e-02, -4.82676436e-02, ...,\n",
       "        -3.99186750e-05, -1.12213137e-03,  1.78269093e-03],\n",
       "       [ 3.93476917e-03,  2.99417275e-03, -5.03332666e-02, ...,\n",
       "         2.02970748e-05, -7.10770820e-04,  2.20706040e-03],\n",
       "       ...,\n",
       "       [ 3.42707789e-02,  3.07731470e-02,  2.46984453e-02, ...,\n",
       "         1.89593874e-05,  1.02992236e-04,  1.73669074e-03],\n",
       "       [ 4.53867375e-02,  5.35913220e-02,  3.04151662e-01, ...,\n",
       "         2.71657422e-05, -4.03998629e-04,  1.47563093e-03],\n",
       "       [-1.09633110e-02, -2.73345769e-02, -4.16369258e-02, ...,\n",
       "        -1.67793132e-05, -4.00506796e-04,  2.68262093e-03]])"
      ]
     },
     "execution_count": 6,
     "metadata": {},
     "output_type": "execute_result"
    }
   ],
   "source": [
    "rf_sv"
   ]
  }
 ],
 "metadata": {
  "kernelspec": {
   "display_name": "qbiome",
   "language": "python",
   "name": "python3"
  },
  "language_info": {
   "codemirror_mode": {
    "name": "ipython",
    "version": 3
   },
   "file_extension": ".py",
   "mimetype": "text/x-python",
   "name": "python",
   "nbconvert_exporter": "python",
   "pygments_lexer": "ipython3",
   "version": "3.10.10"
  }
 },
 "nbformat": 4,
 "nbformat_minor": 5
}
