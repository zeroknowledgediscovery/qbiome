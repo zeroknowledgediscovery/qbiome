{
 "cells": [
  {
   "cell_type": "code",
   "execution_count": 1,
   "metadata": {},
   "outputs": [],
   "source": [
    "import os\n",
    "import sys\n",
    "sys.path.insert(0, os.path.abspath('../qbiome'))\n",
    "\n",
    "import numpy as np\n",
    "import pandas as pd\n",
    "import matplotlib.pyplot as plt\n",
    "import seaborn as sns\n",
    "sns.set_theme()\n",
    "plt.style.use('ggplot')\n",
    "\n",
    "from data_formatter import DataFormatter\n",
    "from quantizer import Quantizer\n",
    "from qnet_orchestrator import QnetOrchestrator\n",
    "from forecaster import Forecaster"
   ]
  },
  {
   "cell_type": "code",
   "execution_count": 2,
   "metadata": {},
   "outputs": [],
   "source": [
    "dirname = 'example_data/'\n",
    "data = dirname + 'SamplesByMetadata_otuDADA2_EMP_10249_ECAM_RSRC_TaxaRelativeAbundance.csv'\n",
    "meta = dirname + 'SamplesByMetadata_otuDADA2_EMP_10249_ECAM_RSRC_Characteristics.csv'"
   ]
  },
  {
   "cell_type": "markdown",
   "metadata": {},
   "source": [
    "# Instantiate the data formatter, quantizer, qnet orchestrator, and forecaster"
   ]
  },
  {
   "cell_type": "code",
   "execution_count": 3,
   "metadata": {},
   "outputs": [],
   "source": [
    "formatter = DataFormatter()\n",
    "quantizer = Quantizer()\n",
    "qnet_orchestrator = QnetOrchestrator(quantizer)\n",
    "forecaster = Forecaster(qnet_orchestrator)"
   ]
  },
  {
   "cell_type": "markdown",
   "metadata": {},
   "source": [
    "# Load, quantize, and convert the data to qnet input format"
   ]
  },
  {
   "cell_type": "code",
   "execution_count": 4,
   "metadata": {
    "scrolled": true
   },
   "outputs": [
    {
     "name": "stdout",
     "output_type": "stream",
     "text": [
      "There are 29 unique biomes and 1216 unique samples\n",
      "There are 311 unique days\n",
      "There are 99 unique weeks\n"
     ]
    }
   ],
   "source": [
    "data = formatter.load_data(data, meta)\n",
    "quantized = quantizer.quantize_df(data)\n",
    "features, label_matrix = quantizer.get_qnet_inputs(quantized)"
   ]
  },
  {
   "cell_type": "code",
   "execution_count": 5,
   "metadata": {},
   "outputs": [
    {
     "data": {
      "text/plain": [
       "(98, 621)"
      ]
     },
     "execution_count": 5,
     "metadata": {},
     "output_type": "execute_result"
    }
   ],
   "source": [
    "# how many weeks of data do we have?\n",
    "# how many biome_week feature names do we have?\n",
    "data.week.max(), len(features)"
   ]
  },
  {
   "cell_type": "code",
   "execution_count": 6,
   "metadata": {},
   "outputs": [
    {
     "data": {
      "text/html": [
       "<div>\n",
       "<style scoped>\n",
       "    .dataframe tbody tr th:only-of-type {\n",
       "        vertical-align: middle;\n",
       "    }\n",
       "\n",
       "    .dataframe tbody tr th {\n",
       "        vertical-align: top;\n",
       "    }\n",
       "\n",
       "    .dataframe thead th {\n",
       "        text-align: right;\n",
       "    }\n",
       "</style>\n",
       "<table border=\"1\" class=\"dataframe\">\n",
       "  <thead>\n",
       "    <tr style=\"text-align: right;\">\n",
       "      <th></th>\n",
       "      <th>sample_id</th>\n",
       "      <th>subject_id</th>\n",
       "      <th>variable</th>\n",
       "      <th>week</th>\n",
       "      <th>value</th>\n",
       "    </tr>\n",
       "  </thead>\n",
       "  <tbody>\n",
       "    <tr>\n",
       "      <th>7</th>\n",
       "      <td>MBSMPL0020-6-10</td>\n",
       "      <td>1</td>\n",
       "      <td>Actinobacteriota</td>\n",
       "      <td>27</td>\n",
       "      <td>0.366650</td>\n",
       "    </tr>\n",
       "    <tr>\n",
       "      <th>8</th>\n",
       "      <td>MBSMPL0020-6-10</td>\n",
       "      <td>1</td>\n",
       "      <td>Bacteroidota</td>\n",
       "      <td>27</td>\n",
       "      <td>0.507248</td>\n",
       "    </tr>\n",
       "    <tr>\n",
       "      <th>9</th>\n",
       "      <td>MBSMPL0020-6-10</td>\n",
       "      <td>1</td>\n",
       "      <td>Campilobacterota</td>\n",
       "      <td>27</td>\n",
       "      <td>0.002032</td>\n",
       "    </tr>\n",
       "    <tr>\n",
       "      <th>10</th>\n",
       "      <td>MBSMPL0020-6-10</td>\n",
       "      <td>1</td>\n",
       "      <td>Desulfobacterota</td>\n",
       "      <td>27</td>\n",
       "      <td>0.005058</td>\n",
       "    </tr>\n",
       "    <tr>\n",
       "      <th>11</th>\n",
       "      <td>MBSMPL0020-6-10</td>\n",
       "      <td>1</td>\n",
       "      <td>Firmicutes</td>\n",
       "      <td>27</td>\n",
       "      <td>0.057767</td>\n",
       "    </tr>\n",
       "  </tbody>\n",
       "</table>\n",
       "</div>"
      ],
      "text/plain": [
       "          sample_id subject_id          variable  week     value\n",
       "7   MBSMPL0020-6-10          1  Actinobacteriota    27  0.366650\n",
       "8   MBSMPL0020-6-10          1      Bacteroidota    27  0.507248\n",
       "9   MBSMPL0020-6-10          1  Campilobacterota    27  0.002032\n",
       "10  MBSMPL0020-6-10          1  Desulfobacterota    27  0.005058\n",
       "11  MBSMPL0020-6-10          1        Firmicutes    27  0.057767"
      ]
     },
     "execution_count": 6,
     "metadata": {},
     "output_type": "execute_result"
    }
   ],
   "source": [
    "data.head()"
   ]
  },
  {
   "cell_type": "markdown",
   "metadata": {},
   "source": [
    "# Load a pre-trained qnet"
   ]
  },
  {
   "cell_type": "code",
   "execution_count": 7,
   "metadata": {},
   "outputs": [],
   "source": [
    "qnet_orchestrator.load_qnet('biome_net.joblib')"
   ]
  },
  {
   "cell_type": "markdown",
   "metadata": {},
   "source": [
    "# Construct a new patient\n",
    "\n",
    "We construct a new patient from the quantized data column names because it contains all the feature names that the qnet uses."
   ]
  },
  {
   "cell_type": "code",
   "execution_count": 8,
   "metadata": {},
   "outputs": [
    {
     "data": {
      "text/html": [
       "<div>\n",
       "<style scoped>\n",
       "    .dataframe tbody tr th:only-of-type {\n",
       "        vertical-align: middle;\n",
       "    }\n",
       "\n",
       "    .dataframe tbody tr th {\n",
       "        vertical-align: top;\n",
       "    }\n",
       "\n",
       "    .dataframe thead th {\n",
       "        text-align: right;\n",
       "    }\n",
       "</style>\n",
       "<table border=\"1\" class=\"dataframe\">\n",
       "  <thead>\n",
       "    <tr style=\"text-align: right;\">\n",
       "      <th></th>\n",
       "      <th>subject_id</th>\n",
       "      <th>Acidobacteriota_1</th>\n",
       "      <th>Acidobacteriota_9</th>\n",
       "      <th>Acidobacteriota_27</th>\n",
       "      <th>Acidobacteriota_31</th>\n",
       "      <th>Acidobacteriota_35</th>\n",
       "      <th>Actinobacteriota_1</th>\n",
       "      <th>Actinobacteriota_2</th>\n",
       "      <th>Actinobacteriota_3</th>\n",
       "      <th>Actinobacteriota_5</th>\n",
       "      <th>...</th>\n",
       "      <th>unclassified_Bacteria_31</th>\n",
       "      <th>unclassified_Bacteria_34</th>\n",
       "      <th>unclassified_Bacteria_36</th>\n",
       "      <th>unclassified_Bacteria_40</th>\n",
       "      <th>unclassified_Bacteria_48</th>\n",
       "      <th>unclassified_Bacteria_57</th>\n",
       "      <th>unclassified_Bacteria_62</th>\n",
       "      <th>unclassified_Bacteria_79</th>\n",
       "      <th>unclassified_Bacteria_80</th>\n",
       "      <th>unclassified_Bacteria_88</th>\n",
       "    </tr>\n",
       "  </thead>\n",
       "  <tbody>\n",
       "    <tr>\n",
       "      <th>0</th>\n",
       "      <td>101</td>\n",
       "      <td>0.563257</td>\n",
       "      <td>0.902401</td>\n",
       "      <td>0.006412</td>\n",
       "      <td>0.587586</td>\n",
       "      <td>0.814338</td>\n",
       "      <td>0.401661</td>\n",
       "      <td>0.281431</td>\n",
       "      <td>0.780219</td>\n",
       "      <td>0.032827</td>\n",
       "      <td>...</td>\n",
       "      <td>0.041676</td>\n",
       "      <td>0.347949</td>\n",
       "      <td>0.595301</td>\n",
       "      <td>0.691856</td>\n",
       "      <td>0.180347</td>\n",
       "      <td>0.485105</td>\n",
       "      <td>0.339408</td>\n",
       "      <td>0.168055</td>\n",
       "      <td>0.925828</td>\n",
       "      <td>0.697089</td>\n",
       "    </tr>\n",
       "  </tbody>\n",
       "</table>\n",
       "<p>1 rows × 622 columns</p>\n",
       "</div>"
      ],
      "text/plain": [
       "  subject_id  Acidobacteriota_1  Acidobacteriota_9  Acidobacteriota_27  \\\n",
       "0        101           0.563257           0.902401            0.006412   \n",
       "\n",
       "   Acidobacteriota_31  Acidobacteriota_35  Actinobacteriota_1  \\\n",
       "0            0.587586            0.814338            0.401661   \n",
       "\n",
       "   Actinobacteriota_2  Actinobacteriota_3  Actinobacteriota_5  ...  \\\n",
       "0            0.281431            0.780219            0.032827  ...   \n",
       "\n",
       "   unclassified_Bacteria_31  unclassified_Bacteria_34  \\\n",
       "0                  0.041676                  0.347949   \n",
       "\n",
       "   unclassified_Bacteria_36  unclassified_Bacteria_40  \\\n",
       "0                  0.595301                  0.691856   \n",
       "\n",
       "   unclassified_Bacteria_48  unclassified_Bacteria_57  \\\n",
       "0                  0.180347                  0.485105   \n",
       "\n",
       "   unclassified_Bacteria_62  unclassified_Bacteria_79  \\\n",
       "0                  0.339408                  0.168055   \n",
       "\n",
       "   unclassified_Bacteria_80  unclassified_Bacteria_88  \n",
       "0                  0.925828                  0.697089  \n",
       "\n",
       "[1 rows x 622 columns]"
      ]
     },
     "execution_count": 8,
     "metadata": {},
     "output_type": "execute_result"
    }
   ],
   "source": [
    "# initialize with random floats\n",
    "new_patient = pd.DataFrame(\n",
    "    np.random.rand(1, len(quantized.columns)),\n",
    "    index=[0],\n",
    "    columns=quantized.columns\n",
    ")\n",
    "new_patient.subject_id = '101'\n",
    "new_patient"
   ]
  },
  {
   "cell_type": "code",
   "execution_count": 9,
   "metadata": {},
   "outputs": [
    {
     "data": {
      "text/plain": [
       "(621,)"
      ]
     },
     "execution_count": 9,
     "metadata": {},
     "output_type": "execute_result"
    }
   ],
   "source": [
    "new_patient_seq = new_patient.drop(columns='subject_id').to_numpy().squeeze()\n",
    "new_patient_seq.shape"
   ]
  },
  {
   "cell_type": "code",
   "execution_count": 10,
   "metadata": {},
   "outputs": [],
   "source": [
    "# suppose we only have 6 weeks of data for the new patient\n",
    "# we mask out the remainder of the weeks\n",
    "new_patient_masked = qnet_orchestrator.mask_sequence_at_weeks(\n",
    "    new_patient_seq, \n",
    "    start_week=7, \n",
    "    end_week=qnet_orchestrator.get_max_timestamp(),\n",
    "    fill_value=np.nan\n",
    ")"
   ]
  },
  {
   "cell_type": "code",
   "execution_count": 11,
   "metadata": {},
   "outputs": [],
   "source": [
    "new_patient_df = quantizer.add_meta_to_matrix(\n",
    "    new_patient_masked[np.newaxis, :],\n",
    "    add_subject_id=False\n",
    ")\n",
    "# manually add back subject_id\n",
    "new_patient_df.insert(0, 'subject_id', ['101'])"
   ]
  },
  {
   "cell_type": "code",
   "execution_count": 12,
   "metadata": {
    "scrolled": false
   },
   "outputs": [
    {
     "data": {
      "text/html": [
       "<div>\n",
       "<style scoped>\n",
       "    .dataframe tbody tr th:only-of-type {\n",
       "        vertical-align: middle;\n",
       "    }\n",
       "\n",
       "    .dataframe tbody tr th {\n",
       "        vertical-align: top;\n",
       "    }\n",
       "\n",
       "    .dataframe thead th {\n",
       "        text-align: right;\n",
       "    }\n",
       "</style>\n",
       "<table border=\"1\" class=\"dataframe\">\n",
       "  <thead>\n",
       "    <tr style=\"text-align: right;\">\n",
       "      <th>variable</th>\n",
       "      <th>subject_id</th>\n",
       "      <th>Acidobacteriota_1</th>\n",
       "      <th>Acidobacteriota_27</th>\n",
       "      <th>Acidobacteriota_31</th>\n",
       "      <th>Acidobacteriota_35</th>\n",
       "      <th>Acidobacteriota_9</th>\n",
       "      <th>Actinobacteriota_1</th>\n",
       "      <th>Actinobacteriota_10</th>\n",
       "      <th>Actinobacteriota_11</th>\n",
       "      <th>Actinobacteriota_13</th>\n",
       "      <th>...</th>\n",
       "      <th>unclassified_Bacteria_36</th>\n",
       "      <th>unclassified_Bacteria_40</th>\n",
       "      <th>unclassified_Bacteria_48</th>\n",
       "      <th>unclassified_Bacteria_57</th>\n",
       "      <th>unclassified_Bacteria_6</th>\n",
       "      <th>unclassified_Bacteria_62</th>\n",
       "      <th>unclassified_Bacteria_7</th>\n",
       "      <th>unclassified_Bacteria_79</th>\n",
       "      <th>unclassified_Bacteria_80</th>\n",
       "      <th>unclassified_Bacteria_88</th>\n",
       "    </tr>\n",
       "  </thead>\n",
       "  <tbody>\n",
       "    <tr>\n",
       "      <th>0</th>\n",
       "      <td>101</td>\n",
       "      <td>0.563257</td>\n",
       "      <td>NaN</td>\n",
       "      <td>NaN</td>\n",
       "      <td>NaN</td>\n",
       "      <td>NaN</td>\n",
       "      <td>0.401661</td>\n",
       "      <td>0.281431</td>\n",
       "      <td>0.780219</td>\n",
       "      <td>0.032827</td>\n",
       "      <td>...</td>\n",
       "      <td>NaN</td>\n",
       "      <td>NaN</td>\n",
       "      <td>NaN</td>\n",
       "      <td>NaN</td>\n",
       "      <td>NaN</td>\n",
       "      <td>NaN</td>\n",
       "      <td>NaN</td>\n",
       "      <td>NaN</td>\n",
       "      <td>NaN</td>\n",
       "      <td>NaN</td>\n",
       "    </tr>\n",
       "  </tbody>\n",
       "</table>\n",
       "<p>1 rows × 622 columns</p>\n",
       "</div>"
      ],
      "text/plain": [
       "variable subject_id  Acidobacteriota_1  Acidobacteriota_27  \\\n",
       "0               101           0.563257                 NaN   \n",
       "\n",
       "variable  Acidobacteriota_31  Acidobacteriota_35  Acidobacteriota_9  \\\n",
       "0                        NaN                 NaN                NaN   \n",
       "\n",
       "variable  Actinobacteriota_1  Actinobacteriota_10  Actinobacteriota_11  \\\n",
       "0                   0.401661             0.281431             0.780219   \n",
       "\n",
       "variable  Actinobacteriota_13  ...  unclassified_Bacteria_36  \\\n",
       "0                    0.032827  ...                       NaN   \n",
       "\n",
       "variable  unclassified_Bacteria_40  unclassified_Bacteria_48  \\\n",
       "0                              NaN                       NaN   \n",
       "\n",
       "variable  unclassified_Bacteria_57  unclassified_Bacteria_6  \\\n",
       "0                              NaN                      NaN   \n",
       "\n",
       "variable  unclassified_Bacteria_62  unclassified_Bacteria_7  \\\n",
       "0                              NaN                      NaN   \n",
       "\n",
       "variable  unclassified_Bacteria_79  unclassified_Bacteria_80  \\\n",
       "0                              NaN                       NaN   \n",
       "\n",
       "variable  unclassified_Bacteria_88  \n",
       "0                              NaN  \n",
       "\n",
       "[1 rows x 622 columns]"
      ]
     },
     "execution_count": 12,
     "metadata": {},
     "output_type": "execute_result"
    }
   ],
   "source": [
    "new_patient_df"
   ]
  },
  {
   "cell_type": "code",
   "execution_count": 13,
   "metadata": {},
   "outputs": [],
   "source": [
    "new_patient_df = quantizer.melt_into_plot_format(new_patient_df)"
   ]
  },
  {
   "cell_type": "code",
   "execution_count": 14,
   "metadata": {},
   "outputs": [
    {
     "data": {
      "text/html": [
       "<div>\n",
       "<style scoped>\n",
       "    .dataframe tbody tr th:only-of-type {\n",
       "        vertical-align: middle;\n",
       "    }\n",
       "\n",
       "    .dataframe tbody tr th {\n",
       "        vertical-align: top;\n",
       "    }\n",
       "\n",
       "    .dataframe thead th {\n",
       "        text-align: right;\n",
       "    }\n",
       "</style>\n",
       "<table border=\"1\" class=\"dataframe\">\n",
       "  <thead>\n",
       "    <tr style=\"text-align: right;\">\n",
       "      <th></th>\n",
       "      <th>subject_id</th>\n",
       "      <th>variable</th>\n",
       "      <th>week</th>\n",
       "      <th>value</th>\n",
       "    </tr>\n",
       "  </thead>\n",
       "  <tbody>\n",
       "    <tr>\n",
       "      <th>0</th>\n",
       "      <td>101</td>\n",
       "      <td>Acidobacteriota</td>\n",
       "      <td>1</td>\n",
       "      <td>0.563257</td>\n",
       "    </tr>\n",
       "    <tr>\n",
       "      <th>1</th>\n",
       "      <td>101</td>\n",
       "      <td>Acidobacteriota</td>\n",
       "      <td>27</td>\n",
       "      <td>NaN</td>\n",
       "    </tr>\n",
       "    <tr>\n",
       "      <th>2</th>\n",
       "      <td>101</td>\n",
       "      <td>Acidobacteriota</td>\n",
       "      <td>31</td>\n",
       "      <td>NaN</td>\n",
       "    </tr>\n",
       "    <tr>\n",
       "      <th>3</th>\n",
       "      <td>101</td>\n",
       "      <td>Acidobacteriota</td>\n",
       "      <td>35</td>\n",
       "      <td>NaN</td>\n",
       "    </tr>\n",
       "    <tr>\n",
       "      <th>4</th>\n",
       "      <td>101</td>\n",
       "      <td>Acidobacteriota</td>\n",
       "      <td>9</td>\n",
       "      <td>NaN</td>\n",
       "    </tr>\n",
       "    <tr>\n",
       "      <th>...</th>\n",
       "      <td>...</td>\n",
       "      <td>...</td>\n",
       "      <td>...</td>\n",
       "      <td>...</td>\n",
       "    </tr>\n",
       "    <tr>\n",
       "      <th>616</th>\n",
       "      <td>101</td>\n",
       "      <td>unclassified_Bacteria</td>\n",
       "      <td>62</td>\n",
       "      <td>NaN</td>\n",
       "    </tr>\n",
       "    <tr>\n",
       "      <th>617</th>\n",
       "      <td>101</td>\n",
       "      <td>unclassified_Bacteria</td>\n",
       "      <td>7</td>\n",
       "      <td>NaN</td>\n",
       "    </tr>\n",
       "    <tr>\n",
       "      <th>618</th>\n",
       "      <td>101</td>\n",
       "      <td>unclassified_Bacteria</td>\n",
       "      <td>79</td>\n",
       "      <td>NaN</td>\n",
       "    </tr>\n",
       "    <tr>\n",
       "      <th>619</th>\n",
       "      <td>101</td>\n",
       "      <td>unclassified_Bacteria</td>\n",
       "      <td>80</td>\n",
       "      <td>NaN</td>\n",
       "    </tr>\n",
       "    <tr>\n",
       "      <th>620</th>\n",
       "      <td>101</td>\n",
       "      <td>unclassified_Bacteria</td>\n",
       "      <td>88</td>\n",
       "      <td>NaN</td>\n",
       "    </tr>\n",
       "  </tbody>\n",
       "</table>\n",
       "<p>621 rows × 4 columns</p>\n",
       "</div>"
      ],
      "text/plain": [
       "    subject_id               variable  week     value\n",
       "0          101        Acidobacteriota     1  0.563257\n",
       "1          101        Acidobacteriota    27       NaN\n",
       "2          101        Acidobacteriota    31       NaN\n",
       "3          101        Acidobacteriota    35       NaN\n",
       "4          101        Acidobacteriota     9       NaN\n",
       "..         ...                    ...   ...       ...\n",
       "616        101  unclassified_Bacteria    62       NaN\n",
       "617        101  unclassified_Bacteria     7       NaN\n",
       "618        101  unclassified_Bacteria    79       NaN\n",
       "619        101  unclassified_Bacteria    80       NaN\n",
       "620        101  unclassified_Bacteria    88       NaN\n",
       "\n",
       "[621 rows x 4 columns]"
      ]
     },
     "execution_count": 14,
     "metadata": {},
     "output_type": "execute_result"
    }
   ],
   "source": [
    "new_patient_df"
   ]
  },
  {
   "cell_type": "code",
   "execution_count": 15,
   "metadata": {},
   "outputs": [],
   "source": [
    "# quantize\n",
    "new_patient_quantized = quantizer.quantize_df(new_patient_df)\n",
    "# convert this patient into a format acceptable by the qnet\n",
    "_, new_patient_matrix = quantizer.get_qnet_inputs(new_patient_quantized)"
   ]
  },
  {
   "cell_type": "code",
   "execution_count": 16,
   "metadata": {
    "scrolled": true
   },
   "outputs": [
    {
     "data": {
      "text/plain": [
       "(1, 621)"
      ]
     },
     "execution_count": 16,
     "metadata": {},
     "output_type": "execute_result"
    }
   ],
   "source": [
    "new_patient_matrix.shape"
   ]
  },
  {
   "cell_type": "markdown",
   "metadata": {},
   "source": [
    "# Forecast the data starting from `week 10` to the last week"
   ]
  },
  {
   "cell_type": "code",
   "execution_count": 17,
   "metadata": {},
   "outputs": [],
   "source": [
    "# takes 2 minutes to run\n",
    "forecasted = forecaster.forecast_data(\n",
    "    new_patient_matrix, \n",
    "    start_week=7\n",
    ")"
   ]
  },
  {
   "cell_type": "markdown",
   "metadata": {},
   "source": [
    "# Inspect the forecasted data\n",
    "\n",
    "The NaNs are due to the random values we generated falling outside the quantization range."
   ]
  },
  {
   "cell_type": "code",
   "execution_count": 19,
   "metadata": {},
   "outputs": [
    {
     "data": {
      "text/html": [
       "<div>\n",
       "<style scoped>\n",
       "    .dataframe tbody tr th:only-of-type {\n",
       "        vertical-align: middle;\n",
       "    }\n",
       "\n",
       "    .dataframe tbody tr th {\n",
       "        vertical-align: top;\n",
       "    }\n",
       "\n",
       "    .dataframe thead th {\n",
       "        text-align: right;\n",
       "    }\n",
       "</style>\n",
       "<table border=\"1\" class=\"dataframe\">\n",
       "  <thead>\n",
       "    <tr style=\"text-align: right;\">\n",
       "      <th></th>\n",
       "      <th>subject_id</th>\n",
       "      <th>variable</th>\n",
       "      <th>week</th>\n",
       "      <th>value</th>\n",
       "    </tr>\n",
       "  </thead>\n",
       "  <tbody>\n",
       "    <tr>\n",
       "      <th>0</th>\n",
       "      <td>101</td>\n",
       "      <td>Acidobacteriota</td>\n",
       "      <td>1</td>\n",
       "      <td>NaN</td>\n",
       "    </tr>\n",
       "    <tr>\n",
       "      <th>1</th>\n",
       "      <td>101</td>\n",
       "      <td>Acidobacteriota</td>\n",
       "      <td>27</td>\n",
       "      <td>0.002400</td>\n",
       "    </tr>\n",
       "    <tr>\n",
       "      <th>2</th>\n",
       "      <td>101</td>\n",
       "      <td>Acidobacteriota</td>\n",
       "      <td>31</td>\n",
       "      <td>0.000191</td>\n",
       "    </tr>\n",
       "    <tr>\n",
       "      <th>3</th>\n",
       "      <td>101</td>\n",
       "      <td>Acidobacteriota</td>\n",
       "      <td>35</td>\n",
       "      <td>0.000525</td>\n",
       "    </tr>\n",
       "    <tr>\n",
       "      <th>4</th>\n",
       "      <td>101</td>\n",
       "      <td>Acidobacteriota</td>\n",
       "      <td>9</td>\n",
       "      <td>0.000319</td>\n",
       "    </tr>\n",
       "  </tbody>\n",
       "</table>\n",
       "</div>"
      ],
      "text/plain": [
       "  subject_id         variable  week     value\n",
       "0        101  Acidobacteriota     1       NaN\n",
       "1        101  Acidobacteriota    27  0.002400\n",
       "2        101  Acidobacteriota    31  0.000191\n",
       "3        101  Acidobacteriota    35  0.000525\n",
       "4        101  Acidobacteriota     9  0.000319"
      ]
     },
     "execution_count": 19,
     "metadata": {},
     "output_type": "execute_result"
    }
   ],
   "source": [
    "forecasted.head()"
   ]
  },
  {
   "cell_type": "code",
   "execution_count": 28,
   "metadata": {},
   "outputs": [
    {
     "data": {
      "text/plain": [
       "<seaborn.axisgrid.FacetGrid at 0x7f6e91ca03d0>"
      ]
     },
     "execution_count": 28,
     "metadata": {},
     "output_type": "execute_result"
    },
    {
     "data": {
      "image/png": "[encoded data removed]",
      "text/plain": [
       "<Figure size 440.8x648 with 5 Axes>"
      ]
     },
     "metadata": {},
     "output_type": "display_data"
    }
   ],
   "source": [
    "BIOMES = ['Actinobacteriota', 'Bacteroidota', 'Firmicutes', 'Proteobacteria', 'unclassified_Bacteria']\n",
    "\n",
    "plottable = forecasted[\n",
    "    (forecasted.variable.isin(BIOMES)) &\n",
    "    (forecasted.week < 20)\n",
    "     ]\n",
    "\n",
    "g = sns.FacetGrid(plottable, col='variable', col_wrap=2, sharey=False, margin_titles=True)\n",
    "g.map_dataframe(sns.lineplot, 'week', 'value', ci=None, marker='o',\n",
    "                    linewidth=2, alpha=0.75, markersize=5)\n",
    "g.set_titles(row_template = '{row_name}', col_template = '{col_name}')\n",
    "g.add_legend()"
   ]
  },
  {
   "cell_type": "code",
   "execution_count": null,
   "metadata": {},
   "outputs": [],
   "source": []
  }
 ],
 "metadata": {
  "kernelspec": {
   "display_name": "qnet-dev",
   "language": "python",
   "name": "qnet-dev"
  }
 },
 "nbformat": 4,
 "nbformat_minor": 4
}
