{
 "cells": [
  {
   "cell_type": "code",
   "execution_count": 1,
   "metadata": {},
   "outputs": [],
   "source": [
    "import os\n",
    "import sys\n",
    "sys.path.insert(0, os.path.abspath('../qbiome'))\n",
    "\n",
    "import numpy as np\n",
    "import pandas as pd\n",
    "import matplotlib.pyplot as plt\n",
    "import seaborn as sns\n",
    "sns.set_theme()\n",
    "plt.style.use('ggplot')\n",
    "\n",
    "from data_formatter import DataFormatter\n",
    "from quantizer import Quantizer\n",
    "from qnet_orchestrator import QnetOrchestrator\n",
    "from forecaster import Forecaster"
   ]
  },
  {
   "cell_type": "code",
   "execution_count": 2,
   "metadata": {},
   "outputs": [],
   "source": [
    "dirname = 'example_data/'\n",
    "data = dirname + 'SamplesByMetadata_otuDADA2_EMP_10249_ECAM_RSRC_TaxaRelativeAbundance.csv'\n",
    "meta = dirname + 'SamplesByMetadata_otuDADA2_EMP_10249_ECAM_RSRC_Characteristics.csv'"
   ]
  },
  {
   "cell_type": "markdown",
   "metadata": {},
   "source": [
    "# Instantiate the data formatter, quantizer, qnet orchestrator, and forecaster"
   ]
  },
  {
   "cell_type": "code",
   "execution_count": 3,
   "metadata": {},
   "outputs": [],
   "source": [
    "formatter = DataFormatter()\n",
    "quantizer = Quantizer()\n",
    "qnet_orchestrator = QnetOrchestrator(quantizer)\n",
    "forecaster = Forecaster(qnet_orchestrator)"
   ]
  },
  {
   "cell_type": "markdown",
   "metadata": {},
   "source": [
    "# Load, quantize, and convert the data to qnet input format"
   ]
  },
  {
   "cell_type": "code",
   "execution_count": 4,
   "metadata": {
    "scrolled": true
   },
   "outputs": [
    {
     "name": "stdout",
     "output_type": "stream",
     "text": [
      "There are 29 unique biomes and 1216 unique samples\n",
      "There are 311 unique days\n",
      "There are 99 unique weeks\n"
     ]
    }
   ],
   "source": [
    "data = formatter.load_data(data, meta)\n",
    "quantized = quantizer.quantize_df(data)\n",
    "features, label_matrix = quantizer.get_qnet_inputs(quantized)"
   ]
  },
  {
   "cell_type": "code",
   "execution_count": 5,
   "metadata": {},
   "outputs": [
    {
     "data": {
      "text/plain": [
       "(98, 622)"
      ]
     },
     "execution_count": 5,
     "metadata": {},
     "output_type": "execute_result"
    }
   ],
   "source": [
    "# how many weeks of data do we have?\n",
    "# how many biome_week feature names do we have?\n",
    "data.week.max(), len(features)"
   ]
  },
  {
   "cell_type": "code",
   "execution_count": 6,
   "metadata": {},
   "outputs": [
    {
     "data": {
      "text/html": [
       "<div>\n",
       "<style scoped>\n",
       "    .dataframe tbody tr th:only-of-type {\n",
       "        vertical-align: middle;\n",
       "    }\n",
       "\n",
       "    .dataframe tbody tr th {\n",
       "        vertical-align: top;\n",
       "    }\n",
       "\n",
       "    .dataframe thead th {\n",
       "        text-align: right;\n",
       "    }\n",
       "</style>\n",
       "<table border=\"1\" class=\"dataframe\">\n",
       "  <thead>\n",
       "    <tr style=\"text-align: right;\">\n",
       "      <th></th>\n",
       "      <th>sample_id</th>\n",
       "      <th>subject_id</th>\n",
       "      <th>variable</th>\n",
       "      <th>week</th>\n",
       "      <th>value</th>\n",
       "    </tr>\n",
       "  </thead>\n",
       "  <tbody>\n",
       "    <tr>\n",
       "      <th>7</th>\n",
       "      <td>MBSMPL0020-6-10</td>\n",
       "      <td>1</td>\n",
       "      <td>Actinobacteriota</td>\n",
       "      <td>27</td>\n",
       "      <td>0.366650</td>\n",
       "    </tr>\n",
       "    <tr>\n",
       "      <th>8</th>\n",
       "      <td>MBSMPL0020-6-10</td>\n",
       "      <td>1</td>\n",
       "      <td>Bacteroidota</td>\n",
       "      <td>27</td>\n",
       "      <td>0.507248</td>\n",
       "    </tr>\n",
       "    <tr>\n",
       "      <th>9</th>\n",
       "      <td>MBSMPL0020-6-10</td>\n",
       "      <td>1</td>\n",
       "      <td>Campilobacterota</td>\n",
       "      <td>27</td>\n",
       "      <td>0.002032</td>\n",
       "    </tr>\n",
       "    <tr>\n",
       "      <th>10</th>\n",
       "      <td>MBSMPL0020-6-10</td>\n",
       "      <td>1</td>\n",
       "      <td>Desulfobacterota</td>\n",
       "      <td>27</td>\n",
       "      <td>0.005058</td>\n",
       "    </tr>\n",
       "    <tr>\n",
       "      <th>11</th>\n",
       "      <td>MBSMPL0020-6-10</td>\n",
       "      <td>1</td>\n",
       "      <td>Firmicutes</td>\n",
       "      <td>27</td>\n",
       "      <td>0.057767</td>\n",
       "    </tr>\n",
       "  </tbody>\n",
       "</table>\n",
       "</div>"
      ],
      "text/plain": [
       "          sample_id subject_id          variable  week     value\n",
       "7   MBSMPL0020-6-10          1  Actinobacteriota    27  0.366650\n",
       "8   MBSMPL0020-6-10          1      Bacteroidota    27  0.507248\n",
       "9   MBSMPL0020-6-10          1  Campilobacterota    27  0.002032\n",
       "10  MBSMPL0020-6-10          1  Desulfobacterota    27  0.005058\n",
       "11  MBSMPL0020-6-10          1        Firmicutes    27  0.057767"
      ]
     },
     "execution_count": 6,
     "metadata": {},
     "output_type": "execute_result"
    }
   ],
   "source": [
    "data.head()"
   ]
  },
  {
   "cell_type": "code",
   "execution_count": 8,
   "metadata": {},
   "outputs": [
    {
     "data": {
      "text/plain": [
       "Index(['Acidobacteriota_1', 'Acidobacteriota_9', 'Acidobacteriota_27',\n",
       "       'Acidobacteriota_31', 'Acidobacteriota_35', 'Actinobacteriota_1',\n",
       "       'Actinobacteriota_2', 'Actinobacteriota_3', 'Actinobacteriota_5',\n",
       "       'Actinobacteriota_6',\n",
       "       ...\n",
       "       'unclassified_Bacteria_10', 'unclassified_Bacteria_22',\n",
       "       'unclassified_Bacteria_27', 'unclassified_Bacteria_34',\n",
       "       'unclassified_Bacteria_36', 'unclassified_Bacteria_40',\n",
       "       'unclassified_Bacteria_57', 'unclassified_Bacteria_79',\n",
       "       'unclassified_Bacteria_80', 'unclassified_Bacteria_88'],\n",
       "      dtype='object', length=622)"
      ]
     },
     "execution_count": 8,
     "metadata": {},
     "output_type": "execute_result"
    }
   ],
   "source": [
    "features"
   ]
  },
  {
   "cell_type": "code",
   "execution_count": 9,
   "metadata": {},
   "outputs": [
    {
     "data": {
      "text/plain": [
       "array([['', '', '', ..., '', '', ''],\n",
       "       ['', '', '', ..., '', '', ''],\n",
       "       ['', '', '', ..., '', '', ''],\n",
       "       ...,\n",
       "       ['', '', '', ..., '', '', ''],\n",
       "       ['', '', '', ..., '', '', ''],\n",
       "       ['E', '', '', ..., '', '', '']], dtype='<U1')"
      ]
     },
     "execution_count": 9,
     "metadata": {},
     "output_type": "execute_result"
    }
   ],
   "source": [
    "label_matrix"
   ]
  },
  {
   "cell_type": "markdown",
   "metadata": {},
   "source": [
    "# Train, save, and load the model"
   ]
  },
  {
   "cell_type": "code",
   "execution_count": 10,
   "metadata": {},
   "outputs": [],
   "source": [
    "qnet_orchestrator.model"
   ]
  },
  {
   "cell_type": "code",
   "execution_count": 12,
   "metadata": {},
   "outputs": [
    {
     "name": "stdout",
     "output_type": "stream",
     "text": [
      "CPU times: user 2min, sys: 1.72 s, total: 2min 2s\n",
      "Wall time: 2min 28s\n"
     ]
    }
   ],
   "source": [
    "%%time\n",
    "qnet_orchestrator.train_qnet(\n",
    "    features, label_matrix, alpha=0.2, min_samples_split=2, \n",
    "    out_fname='biome_net_1.joblib')"
   ]
  },
  {
   "cell_type": "markdown",
   "metadata": {},
   "source": [
    "# Load a pre-trained qnet"
   ]
  },
  {
   "cell_type": "code",
   "execution_count": 26,
   "metadata": {},
   "outputs": [
    {
     "name": "stdout",
     "output_type": "stream",
     "text": [
      "CPU times: user 57.2 s, sys: 222 ms, total: 57.4 s\n",
      "Wall time: 57.6 s\n"
     ]
    }
   ],
   "source": [
    "%%time\n",
    "qnet_orchestrator.load_qnet('biome_net_1.joblib')"
   ]
  },
  {
   "cell_type": "markdown",
   "metadata": {},
   "source": [
    "# Construct a new patient\n",
    "\n",
    "We construct a new patient from the quantized data column names because it contains all the feature names that the qnet uses."
   ]
  },
  {
   "cell_type": "code",
   "execution_count": 14,
   "metadata": {},
   "outputs": [
    {
     "data": {
      "text/html": [
       "<div>\n",
       "<style scoped>\n",
       "    .dataframe tbody tr th:only-of-type {\n",
       "        vertical-align: middle;\n",
       "    }\n",
       "\n",
       "    .dataframe tbody tr th {\n",
       "        vertical-align: top;\n",
       "    }\n",
       "\n",
       "    .dataframe thead th {\n",
       "        text-align: right;\n",
       "    }\n",
       "</style>\n",
       "<table border=\"1\" class=\"dataframe\">\n",
       "  <thead>\n",
       "    <tr style=\"text-align: right;\">\n",
       "      <th></th>\n",
       "      <th>subject_id</th>\n",
       "      <th>Acidobacteriota_1</th>\n",
       "      <th>Acidobacteriota_9</th>\n",
       "      <th>Acidobacteriota_27</th>\n",
       "      <th>Acidobacteriota_31</th>\n",
       "      <th>Acidobacteriota_35</th>\n",
       "      <th>Actinobacteriota_1</th>\n",
       "      <th>Actinobacteriota_2</th>\n",
       "      <th>Actinobacteriota_3</th>\n",
       "      <th>Actinobacteriota_5</th>\n",
       "      <th>...</th>\n",
       "      <th>unclassified_Bacteria_10</th>\n",
       "      <th>unclassified_Bacteria_22</th>\n",
       "      <th>unclassified_Bacteria_27</th>\n",
       "      <th>unclassified_Bacteria_34</th>\n",
       "      <th>unclassified_Bacteria_36</th>\n",
       "      <th>unclassified_Bacteria_40</th>\n",
       "      <th>unclassified_Bacteria_57</th>\n",
       "      <th>unclassified_Bacteria_79</th>\n",
       "      <th>unclassified_Bacteria_80</th>\n",
       "      <th>unclassified_Bacteria_88</th>\n",
       "    </tr>\n",
       "  </thead>\n",
       "  <tbody>\n",
       "    <tr>\n",
       "      <th>0</th>\n",
       "      <td>101</td>\n",
       "      <td>0.469831</td>\n",
       "      <td>0.945429</td>\n",
       "      <td>0.20488</td>\n",
       "      <td>0.529128</td>\n",
       "      <td>0.069749</td>\n",
       "      <td>0.423597</td>\n",
       "      <td>0.229976</td>\n",
       "      <td>0.834395</td>\n",
       "      <td>0.997172</td>\n",
       "      <td>...</td>\n",
       "      <td>0.964706</td>\n",
       "      <td>0.66872</td>\n",
       "      <td>0.706928</td>\n",
       "      <td>0.359851</td>\n",
       "      <td>0.358159</td>\n",
       "      <td>0.420606</td>\n",
       "      <td>0.572881</td>\n",
       "      <td>0.219343</td>\n",
       "      <td>0.216838</td>\n",
       "      <td>0.140299</td>\n",
       "    </tr>\n",
       "  </tbody>\n",
       "</table>\n",
       "<p>1 rows × 623 columns</p>\n",
       "</div>"
      ],
      "text/plain": [
       "  subject_id  Acidobacteriota_1  Acidobacteriota_9  Acidobacteriota_27  \\\n",
       "0        101           0.469831           0.945429             0.20488   \n",
       "\n",
       "   Acidobacteriota_31  Acidobacteriota_35  Actinobacteriota_1  \\\n",
       "0            0.529128            0.069749            0.423597   \n",
       "\n",
       "   Actinobacteriota_2  Actinobacteriota_3  Actinobacteriota_5  ...  \\\n",
       "0            0.229976            0.834395            0.997172  ...   \n",
       "\n",
       "   unclassified_Bacteria_10  unclassified_Bacteria_22  \\\n",
       "0                  0.964706                   0.66872   \n",
       "\n",
       "   unclassified_Bacteria_27  unclassified_Bacteria_34  \\\n",
       "0                  0.706928                  0.359851   \n",
       "\n",
       "   unclassified_Bacteria_36  unclassified_Bacteria_40  \\\n",
       "0                  0.358159                  0.420606   \n",
       "\n",
       "   unclassified_Bacteria_57  unclassified_Bacteria_79  \\\n",
       "0                  0.572881                  0.219343   \n",
       "\n",
       "   unclassified_Bacteria_80  unclassified_Bacteria_88  \n",
       "0                  0.216838                  0.140299  \n",
       "\n",
       "[1 rows x 623 columns]"
      ]
     },
     "execution_count": 14,
     "metadata": {},
     "output_type": "execute_result"
    }
   ],
   "source": [
    "# initialize with random floats\n",
    "new_patient = pd.DataFrame(\n",
    "    np.random.rand(1, len(quantized.columns)),\n",
    "    index=[0],\n",
    "    columns=quantized.columns\n",
    ")\n",
    "new_patient.subject_id = '101'\n",
    "new_patient"
   ]
  },
  {
   "cell_type": "code",
   "execution_count": 15,
   "metadata": {},
   "outputs": [
    {
     "data": {
      "text/plain": [
       "(622,)"
      ]
     },
     "execution_count": 15,
     "metadata": {},
     "output_type": "execute_result"
    }
   ],
   "source": [
    "new_patient_seq = new_patient.drop(columns='subject_id').to_numpy().squeeze()\n",
    "new_patient_seq.shape"
   ]
  },
  {
   "cell_type": "code",
   "execution_count": 16,
   "metadata": {},
   "outputs": [],
   "source": [
    "# suppose we only have 6 weeks of data for the new patient\n",
    "# we mask out the remainder of the weeks\n",
    "new_patient_masked = qnet_orchestrator.mask_sequence_at_weeks(\n",
    "    new_patient_seq, \n",
    "    start_week=7, \n",
    "    end_week=qnet_orchestrator.get_max_timestamp(),\n",
    "    fill_value=np.nan\n",
    ")"
   ]
  },
  {
   "cell_type": "code",
   "execution_count": 17,
   "metadata": {},
   "outputs": [],
   "source": [
    "new_patient_df = quantizer.add_meta_to_matrix(\n",
    "    new_patient_masked[np.newaxis, :],\n",
    "    add_subject_id=False\n",
    ")\n",
    "# manually add back subject_id\n",
    "new_patient_df.insert(0, 'subject_id', ['101'])"
   ]
  },
  {
   "cell_type": "code",
   "execution_count": 18,
   "metadata": {
    "scrolled": false
   },
   "outputs": [
    {
     "data": {
      "text/html": [
       "<div>\n",
       "<style scoped>\n",
       "    .dataframe tbody tr th:only-of-type {\n",
       "        vertical-align: middle;\n",
       "    }\n",
       "\n",
       "    .dataframe tbody tr th {\n",
       "        vertical-align: top;\n",
       "    }\n",
       "\n",
       "    .dataframe thead th {\n",
       "        text-align: right;\n",
       "    }\n",
       "</style>\n",
       "<table border=\"1\" class=\"dataframe\">\n",
       "  <thead>\n",
       "    <tr style=\"text-align: right;\">\n",
       "      <th>variable</th>\n",
       "      <th>subject_id</th>\n",
       "      <th>Acidobacteriota_1</th>\n",
       "      <th>Acidobacteriota_27</th>\n",
       "      <th>Acidobacteriota_31</th>\n",
       "      <th>Acidobacteriota_35</th>\n",
       "      <th>Acidobacteriota_9</th>\n",
       "      <th>Actinobacteriota_1</th>\n",
       "      <th>Actinobacteriota_10</th>\n",
       "      <th>Actinobacteriota_11</th>\n",
       "      <th>Actinobacteriota_13</th>\n",
       "      <th>...</th>\n",
       "      <th>unclassified_Bacteria_27</th>\n",
       "      <th>unclassified_Bacteria_34</th>\n",
       "      <th>unclassified_Bacteria_36</th>\n",
       "      <th>unclassified_Bacteria_40</th>\n",
       "      <th>unclassified_Bacteria_57</th>\n",
       "      <th>unclassified_Bacteria_6</th>\n",
       "      <th>unclassified_Bacteria_7</th>\n",
       "      <th>unclassified_Bacteria_79</th>\n",
       "      <th>unclassified_Bacteria_80</th>\n",
       "      <th>unclassified_Bacteria_88</th>\n",
       "    </tr>\n",
       "  </thead>\n",
       "  <tbody>\n",
       "    <tr>\n",
       "      <th>0</th>\n",
       "      <td>101</td>\n",
       "      <td>0.469831</td>\n",
       "      <td>NaN</td>\n",
       "      <td>NaN</td>\n",
       "      <td>NaN</td>\n",
       "      <td>NaN</td>\n",
       "      <td>0.423597</td>\n",
       "      <td>0.229976</td>\n",
       "      <td>0.834395</td>\n",
       "      <td>0.997172</td>\n",
       "      <td>...</td>\n",
       "      <td>NaN</td>\n",
       "      <td>NaN</td>\n",
       "      <td>NaN</td>\n",
       "      <td>NaN</td>\n",
       "      <td>NaN</td>\n",
       "      <td>NaN</td>\n",
       "      <td>NaN</td>\n",
       "      <td>NaN</td>\n",
       "      <td>NaN</td>\n",
       "      <td>NaN</td>\n",
       "    </tr>\n",
       "  </tbody>\n",
       "</table>\n",
       "<p>1 rows × 623 columns</p>\n",
       "</div>"
      ],
      "text/plain": [
       "variable subject_id  Acidobacteriota_1  Acidobacteriota_27  \\\n",
       "0               101           0.469831                 NaN   \n",
       "\n",
       "variable  Acidobacteriota_31  Acidobacteriota_35  Acidobacteriota_9  \\\n",
       "0                        NaN                 NaN                NaN   \n",
       "\n",
       "variable  Actinobacteriota_1  Actinobacteriota_10  Actinobacteriota_11  \\\n",
       "0                   0.423597             0.229976             0.834395   \n",
       "\n",
       "variable  Actinobacteriota_13  ...  unclassified_Bacteria_27  \\\n",
       "0                    0.997172  ...                       NaN   \n",
       "\n",
       "variable  unclassified_Bacteria_34  unclassified_Bacteria_36  \\\n",
       "0                              NaN                       NaN   \n",
       "\n",
       "variable  unclassified_Bacteria_40  unclassified_Bacteria_57  \\\n",
       "0                              NaN                       NaN   \n",
       "\n",
       "variable  unclassified_Bacteria_6  unclassified_Bacteria_7  \\\n",
       "0                             NaN                      NaN   \n",
       "\n",
       "variable  unclassified_Bacteria_79  unclassified_Bacteria_80  \\\n",
       "0                              NaN                       NaN   \n",
       "\n",
       "variable  unclassified_Bacteria_88  \n",
       "0                              NaN  \n",
       "\n",
       "[1 rows x 623 columns]"
      ]
     },
     "execution_count": 18,
     "metadata": {},
     "output_type": "execute_result"
    }
   ],
   "source": [
    "new_patient_df"
   ]
  },
  {
   "cell_type": "code",
   "execution_count": 19,
   "metadata": {},
   "outputs": [],
   "source": [
    "new_patient_df = quantizer.melt_into_plot_format(new_patient_df)"
   ]
  },
  {
   "cell_type": "code",
   "execution_count": 20,
   "metadata": {},
   "outputs": [
    {
     "data": {
      "text/html": [
       "<div>\n",
       "<style scoped>\n",
       "    .dataframe tbody tr th:only-of-type {\n",
       "        vertical-align: middle;\n",
       "    }\n",
       "\n",
       "    .dataframe tbody tr th {\n",
       "        vertical-align: top;\n",
       "    }\n",
       "\n",
       "    .dataframe thead th {\n",
       "        text-align: right;\n",
       "    }\n",
       "</style>\n",
       "<table border=\"1\" class=\"dataframe\">\n",
       "  <thead>\n",
       "    <tr style=\"text-align: right;\">\n",
       "      <th></th>\n",
       "      <th>subject_id</th>\n",
       "      <th>variable</th>\n",
       "      <th>week</th>\n",
       "      <th>value</th>\n",
       "    </tr>\n",
       "  </thead>\n",
       "  <tbody>\n",
       "    <tr>\n",
       "      <th>0</th>\n",
       "      <td>101</td>\n",
       "      <td>Acidobacteriota</td>\n",
       "      <td>1</td>\n",
       "      <td>0.469831</td>\n",
       "    </tr>\n",
       "    <tr>\n",
       "      <th>1</th>\n",
       "      <td>101</td>\n",
       "      <td>Acidobacteriota</td>\n",
       "      <td>27</td>\n",
       "      <td>NaN</td>\n",
       "    </tr>\n",
       "    <tr>\n",
       "      <th>2</th>\n",
       "      <td>101</td>\n",
       "      <td>Acidobacteriota</td>\n",
       "      <td>31</td>\n",
       "      <td>NaN</td>\n",
       "    </tr>\n",
       "    <tr>\n",
       "      <th>3</th>\n",
       "      <td>101</td>\n",
       "      <td>Acidobacteriota</td>\n",
       "      <td>35</td>\n",
       "      <td>NaN</td>\n",
       "    </tr>\n",
       "    <tr>\n",
       "      <th>4</th>\n",
       "      <td>101</td>\n",
       "      <td>Acidobacteriota</td>\n",
       "      <td>9</td>\n",
       "      <td>NaN</td>\n",
       "    </tr>\n",
       "    <tr>\n",
       "      <th>...</th>\n",
       "      <td>...</td>\n",
       "      <td>...</td>\n",
       "      <td>...</td>\n",
       "      <td>...</td>\n",
       "    </tr>\n",
       "    <tr>\n",
       "      <th>617</th>\n",
       "      <td>101</td>\n",
       "      <td>unclassified_Bacteria</td>\n",
       "      <td>6</td>\n",
       "      <td>NaN</td>\n",
       "    </tr>\n",
       "    <tr>\n",
       "      <th>618</th>\n",
       "      <td>101</td>\n",
       "      <td>unclassified_Bacteria</td>\n",
       "      <td>7</td>\n",
       "      <td>NaN</td>\n",
       "    </tr>\n",
       "    <tr>\n",
       "      <th>619</th>\n",
       "      <td>101</td>\n",
       "      <td>unclassified_Bacteria</td>\n",
       "      <td>79</td>\n",
       "      <td>NaN</td>\n",
       "    </tr>\n",
       "    <tr>\n",
       "      <th>620</th>\n",
       "      <td>101</td>\n",
       "      <td>unclassified_Bacteria</td>\n",
       "      <td>80</td>\n",
       "      <td>NaN</td>\n",
       "    </tr>\n",
       "    <tr>\n",
       "      <th>621</th>\n",
       "      <td>101</td>\n",
       "      <td>unclassified_Bacteria</td>\n",
       "      <td>88</td>\n",
       "      <td>NaN</td>\n",
       "    </tr>\n",
       "  </tbody>\n",
       "</table>\n",
       "<p>622 rows × 4 columns</p>\n",
       "</div>"
      ],
      "text/plain": [
       "    subject_id               variable  week     value\n",
       "0          101        Acidobacteriota     1  0.469831\n",
       "1          101        Acidobacteriota    27       NaN\n",
       "2          101        Acidobacteriota    31       NaN\n",
       "3          101        Acidobacteriota    35       NaN\n",
       "4          101        Acidobacteriota     9       NaN\n",
       "..         ...                    ...   ...       ...\n",
       "617        101  unclassified_Bacteria     6       NaN\n",
       "618        101  unclassified_Bacteria     7       NaN\n",
       "619        101  unclassified_Bacteria    79       NaN\n",
       "620        101  unclassified_Bacteria    80       NaN\n",
       "621        101  unclassified_Bacteria    88       NaN\n",
       "\n",
       "[622 rows x 4 columns]"
      ]
     },
     "execution_count": 20,
     "metadata": {},
     "output_type": "execute_result"
    }
   ],
   "source": [
    "new_patient_df"
   ]
  },
  {
   "cell_type": "code",
   "execution_count": 21,
   "metadata": {},
   "outputs": [],
   "source": [
    "# quantize\n",
    "new_patient_quantized = quantizer.quantize_df(new_patient_df)\n",
    "# convert this patient into a format acceptable by the qnet\n",
    "_, new_patient_matrix = quantizer.get_qnet_inputs(new_patient_quantized)"
   ]
  },
  {
   "cell_type": "code",
   "execution_count": 22,
   "metadata": {
    "scrolled": true
   },
   "outputs": [
    {
     "data": {
      "text/plain": [
       "(1, 622)"
      ]
     },
     "execution_count": 22,
     "metadata": {},
     "output_type": "execute_result"
    }
   ],
   "source": [
    "new_patient_matrix.shape"
   ]
  },
  {
   "cell_type": "markdown",
   "metadata": {},
   "source": [
    "# Forecast the data starting from `week 10` to the last week"
   ]
  },
  {
   "cell_type": "code",
   "execution_count": 23,
   "metadata": {},
   "outputs": [],
   "source": [
    "# takes 2 minutes to run\n",
    "forecasted = forecaster.forecast_data(\n",
    "    new_patient_matrix, \n",
    "    start_week=7\n",
    ")"
   ]
  },
  {
   "cell_type": "markdown",
   "metadata": {},
   "source": [
    "# Inspect the forecasted data\n",
    "\n",
    "The NaNs are due to the random values we generated falling outside the quantization range."
   ]
  },
  {
   "cell_type": "code",
   "execution_count": 24,
   "metadata": {},
   "outputs": [
    {
     "data": {
      "text/html": [
       "<div>\n",
       "<style scoped>\n",
       "    .dataframe tbody tr th:only-of-type {\n",
       "        vertical-align: middle;\n",
       "    }\n",
       "\n",
       "    .dataframe tbody tr th {\n",
       "        vertical-align: top;\n",
       "    }\n",
       "\n",
       "    .dataframe thead th {\n",
       "        text-align: right;\n",
       "    }\n",
       "</style>\n",
       "<table border=\"1\" class=\"dataframe\">\n",
       "  <thead>\n",
       "    <tr style=\"text-align: right;\">\n",
       "      <th></th>\n",
       "      <th>subject_id</th>\n",
       "      <th>variable</th>\n",
       "      <th>week</th>\n",
       "      <th>value</th>\n",
       "    </tr>\n",
       "  </thead>\n",
       "  <tbody>\n",
       "    <tr>\n",
       "      <th>0</th>\n",
       "      <td>101</td>\n",
       "      <td>Acidobacteriota</td>\n",
       "      <td>1</td>\n",
       "      <td>NaN</td>\n",
       "    </tr>\n",
       "    <tr>\n",
       "      <th>1</th>\n",
       "      <td>101</td>\n",
       "      <td>Acidobacteriota</td>\n",
       "      <td>27</td>\n",
       "      <td>0.002400</td>\n",
       "    </tr>\n",
       "    <tr>\n",
       "      <th>2</th>\n",
       "      <td>101</td>\n",
       "      <td>Acidobacteriota</td>\n",
       "      <td>31</td>\n",
       "      <td>0.000191</td>\n",
       "    </tr>\n",
       "    <tr>\n",
       "      <th>3</th>\n",
       "      <td>101</td>\n",
       "      <td>Acidobacteriota</td>\n",
       "      <td>35</td>\n",
       "      <td>0.000525</td>\n",
       "    </tr>\n",
       "    <tr>\n",
       "      <th>4</th>\n",
       "      <td>101</td>\n",
       "      <td>Acidobacteriota</td>\n",
       "      <td>9</td>\n",
       "      <td>0.000319</td>\n",
       "    </tr>\n",
       "  </tbody>\n",
       "</table>\n",
       "</div>"
      ],
      "text/plain": [
       "  subject_id         variable  week     value\n",
       "0        101  Acidobacteriota     1       NaN\n",
       "1        101  Acidobacteriota    27  0.002400\n",
       "2        101  Acidobacteriota    31  0.000191\n",
       "3        101  Acidobacteriota    35  0.000525\n",
       "4        101  Acidobacteriota     9  0.000319"
      ]
     },
     "execution_count": 24,
     "metadata": {},
     "output_type": "execute_result"
    }
   ],
   "source": [
    "forecasted.head()"
   ]
  },
  {
   "cell_type": "code",
   "execution_count": 25,
   "metadata": {},
   "outputs": [
    {
     "data": {
      "text/plain": [
       "<seaborn.axisgrid.FacetGrid at 0x7fa42e37c6a0>"
      ]
     },
     "execution_count": 25,
     "metadata": {},
     "output_type": "execute_result"
    },
    {
     "data": {
      "image/png": "[encoded data removed]",
      "text/plain": [
       "<Figure size 440.8x648 with 5 Axes>"
      ]
     },
     "metadata": {},
     "output_type": "display_data"
    }
   ],
   "source": [
    "BIOMES = ['Actinobacteriota', 'Bacteroidota', 'Firmicutes', 'Proteobacteria', 'unclassified_Bacteria']\n",
    "\n",
    "plottable = forecasted[\n",
    "    (forecasted.variable.isin(BIOMES)) &\n",
    "    (forecasted.week < 20)\n",
    "     ]\n",
    "\n",
    "g = sns.FacetGrid(plottable, col='variable', col_wrap=2, sharey=False, margin_titles=True)\n",
    "g.map_dataframe(sns.lineplot, 'week', 'value', ci=None, marker='o',\n",
    "                    linewidth=2, alpha=0.75, markersize=5)\n",
    "g.set_titles(row_template = '{row_name}', col_template = '{col_name}')\n",
    "g.add_legend()"
   ]
  },
  {
   "cell_type": "code",
   "execution_count": 27,
   "metadata": {},
   "outputs": [],
   "source": [
    "# takes 2 minutes to run\n",
    "forecasted = forecaster.forecast_data(\n",
    "    new_patient_matrix, \n",
    "    start_week=7\n",
    ")"
   ]
  },
  {
   "cell_type": "code",
   "execution_count": 28,
   "metadata": {},
   "outputs": [
    {
     "data": {
      "text/plain": [
       "<seaborn.axisgrid.FacetGrid at 0x7fa42c7286a0>"
      ]
     },
     "execution_count": 28,
     "metadata": {},
     "output_type": "execute_result"
    },
    {
     "data": {
      "image/png": "[encoded data removed]",
      "text/plain": [
       "<Figure size 440.8x648 with 5 Axes>"
      ]
     },
     "metadata": {},
     "output_type": "display_data"
    }
   ],
   "source": [
    "BIOMES = ['Actinobacteriota', 'Bacteroidota', 'Firmicutes', 'Proteobacteria', 'unclassified_Bacteria']\n",
    "\n",
    "plottable = forecasted[\n",
    "    (forecasted.variable.isin(BIOMES)) &\n",
    "    (forecasted.week < 20)\n",
    "     ]\n",
    "\n",
    "g = sns.FacetGrid(plottable, col='variable', col_wrap=2, sharey=False, margin_titles=True)\n",
    "g.map_dataframe(sns.lineplot, 'week', 'value', ci=None, marker='o',\n",
    "                    linewidth=2, alpha=0.75, markersize=5)\n",
    "g.set_titles(row_template = '{row_name}', col_template = '{col_name}')\n",
    "g.add_legend()"
   ]
  },
  {
   "cell_type": "code",
   "execution_count": null,
   "metadata": {},
   "outputs": [],
   "source": []
  }
 ],
 "metadata": {
  "kernelspec": {
   "display_name": "Python 3",
   "language": "python",
   "name": "python3"
  },
  "language_info": {
   "codemirror_mode": {
    "name": "ipython",
    "version": 3
   },
   "file_extension": ".py",
   "mimetype": "text/x-python",
   "name": "python",
   "nbconvert_exporter": "python",
   "pygments_lexer": "ipython3",
   "version": "3.7.1"
  }
 },
 "nbformat": 4,
 "nbformat_minor": 4
}
