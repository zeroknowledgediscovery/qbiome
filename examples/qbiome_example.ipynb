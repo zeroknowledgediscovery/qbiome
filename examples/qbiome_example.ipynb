{
 "cells": [
  {
   "cell_type": "markdown",
   "metadata": {},
   "source": [
    "# Import qbiome"
   ]
  },
  {
   "cell_type": "code",
   "execution_count": 1,
   "metadata": {},
   "outputs": [],
   "source": [
    "import qbiome\n",
    "from qbiome.data_formatter import DataFormatter\n",
    "from qbiome.quantizer import Quantizer\n",
    "from qbiome.qnet_orchestrator import QnetOrchestrator\n",
    "from qbiome.mask_checker import MaskChecker\n",
    "from qbiome.forecaster import Forecaster\n",
    "from qbiome.hypothesis import Hypothesis"
   ]
  },
  {
   "cell_type": "markdown",
   "metadata": {},
   "source": [
    "# Import other packages"
   ]
  },
  {
   "cell_type": "code",
   "execution_count": 2,
   "metadata": {},
   "outputs": [],
   "source": [
    "import numpy as np\n",
    "import pandas as pd\n",
    "import matplotlib.pyplot as plt\n",
    "import seaborn as sns\n",
    "sns.set_theme()\n",
    "plt.style.use('ggplot')"
   ]
  },
  {
   "cell_type": "markdown",
   "metadata": {},
   "source": [
    "# Data"
   ]
  },
  {
   "cell_type": "code",
   "execution_count": 3,
   "metadata": {},
   "outputs": [],
   "source": [
    "dirname = 'example_data/'\n",
    "data = dirname + 'SamplesByMetadata_otuDADA2_EMP_10249_ECAM_RSRC_TaxaRelativeAbundance.csv'\n",
    "meta = dirname + 'SamplesByMetadata_otuDADA2_EMP_10249_ECAM_RSRC_Characteristics.csv'"
   ]
  },
  {
   "cell_type": "markdown",
   "metadata": {},
   "source": [
    "# Instantiate the data formatter, quantizer, qnet orchestrator"
   ]
  },
  {
   "cell_type": "code",
   "execution_count": 4,
   "metadata": {},
   "outputs": [],
   "source": [
    "formatter = DataFormatter()\n",
    "quantizer = Quantizer()\n",
    "qnet_orchestrator = QnetOrchestrator(quantizer)"
   ]
  },
  {
   "cell_type": "markdown",
   "metadata": {},
   "source": [
    "# Load, quantize, and convert the data to qnet input format"
   ]
  },
  {
   "cell_type": "code",
   "execution_count": 5,
   "metadata": {
    "scrolled": true
   },
   "outputs": [
    {
     "name": "stdout",
     "output_type": "stream",
     "text": [
      "There are 29 unique biomes and 1216 unique samples\n",
      "There are 311 unique days\n",
      "There are 99 unique weeks\n"
     ]
    }
   ],
   "source": [
    "data = formatter.load_data(data, meta)\n",
    "quantized = quantizer.quantize_df(data)\n",
    "features, label_matrix = quantizer.get_qnet_inputs(quantized)"
   ]
  },
  {
   "cell_type": "code",
   "execution_count": 6,
   "metadata": {},
   "outputs": [
    {
     "data": {
      "text/html": [
       "<div>\n",
       "<style scoped>\n",
       "    .dataframe tbody tr th:only-of-type {\n",
       "        vertical-align: middle;\n",
       "    }\n",
       "\n",
       "    .dataframe tbody tr th {\n",
       "        vertical-align: top;\n",
       "    }\n",
       "\n",
       "    .dataframe thead th {\n",
       "        text-align: right;\n",
       "    }\n",
       "</style>\n",
       "<table border=\"1\" class=\"dataframe\">\n",
       "  <thead>\n",
       "    <tr style=\"text-align: right;\">\n",
       "      <th></th>\n",
       "      <th>sample_id</th>\n",
       "      <th>subject_id</th>\n",
       "      <th>variable</th>\n",
       "      <th>week</th>\n",
       "      <th>value</th>\n",
       "    </tr>\n",
       "  </thead>\n",
       "  <tbody>\n",
       "    <tr>\n",
       "      <th>7</th>\n",
       "      <td>MBSMPL0020-6-10</td>\n",
       "      <td>1</td>\n",
       "      <td>Actinobacteriota</td>\n",
       "      <td>27</td>\n",
       "      <td>0.366650</td>\n",
       "    </tr>\n",
       "    <tr>\n",
       "      <th>8</th>\n",
       "      <td>MBSMPL0020-6-10</td>\n",
       "      <td>1</td>\n",
       "      <td>Bacteroidota</td>\n",
       "      <td>27</td>\n",
       "      <td>0.507248</td>\n",
       "    </tr>\n",
       "    <tr>\n",
       "      <th>9</th>\n",
       "      <td>MBSMPL0020-6-10</td>\n",
       "      <td>1</td>\n",
       "      <td>Campilobacterota</td>\n",
       "      <td>27</td>\n",
       "      <td>0.002032</td>\n",
       "    </tr>\n",
       "    <tr>\n",
       "      <th>10</th>\n",
       "      <td>MBSMPL0020-6-10</td>\n",
       "      <td>1</td>\n",
       "      <td>Desulfobacterota</td>\n",
       "      <td>27</td>\n",
       "      <td>0.005058</td>\n",
       "    </tr>\n",
       "    <tr>\n",
       "      <th>11</th>\n",
       "      <td>MBSMPL0020-6-10</td>\n",
       "      <td>1</td>\n",
       "      <td>Firmicutes</td>\n",
       "      <td>27</td>\n",
       "      <td>0.057767</td>\n",
       "    </tr>\n",
       "    <tr>\n",
       "      <th>...</th>\n",
       "      <td>...</td>\n",
       "      <td>...</td>\n",
       "      <td>...</td>\n",
       "      <td>...</td>\n",
       "      <td>...</td>\n",
       "    </tr>\n",
       "    <tr>\n",
       "      <th>6660</th>\n",
       "      <td>MBSMPL0020-6-998</td>\n",
       "      <td>16</td>\n",
       "      <td>Actinobacteriota</td>\n",
       "      <td>7</td>\n",
       "      <td>0.047280</td>\n",
       "    </tr>\n",
       "    <tr>\n",
       "      <th>6661</th>\n",
       "      <td>MBSMPL0020-6-998</td>\n",
       "      <td>16</td>\n",
       "      <td>Bacteroidota</td>\n",
       "      <td>7</td>\n",
       "      <td>0.452827</td>\n",
       "    </tr>\n",
       "    <tr>\n",
       "      <th>6662</th>\n",
       "      <td>MBSMPL0020-6-998</td>\n",
       "      <td>16</td>\n",
       "      <td>Campilobacterota</td>\n",
       "      <td>7</td>\n",
       "      <td>0.000377</td>\n",
       "    </tr>\n",
       "    <tr>\n",
       "      <th>6663</th>\n",
       "      <td>MBSMPL0020-6-998</td>\n",
       "      <td>16</td>\n",
       "      <td>Firmicutes</td>\n",
       "      <td>7</td>\n",
       "      <td>0.356165</td>\n",
       "    </tr>\n",
       "    <tr>\n",
       "      <th>6664</th>\n",
       "      <td>MBSMPL0020-6-998</td>\n",
       "      <td>16</td>\n",
       "      <td>Fusobacteriota</td>\n",
       "      <td>7</td>\n",
       "      <td>0.143349</td>\n",
       "    </tr>\n",
       "  </tbody>\n",
       "</table>\n",
       "<p>4954 rows × 5 columns</p>\n",
       "</div>"
      ],
      "text/plain": [
       "             sample_id subject_id          variable  week     value\n",
       "7      MBSMPL0020-6-10          1  Actinobacteriota    27  0.366650\n",
       "8      MBSMPL0020-6-10          1      Bacteroidota    27  0.507248\n",
       "9      MBSMPL0020-6-10          1  Campilobacterota    27  0.002032\n",
       "10     MBSMPL0020-6-10          1  Desulfobacterota    27  0.005058\n",
       "11     MBSMPL0020-6-10          1        Firmicutes    27  0.057767\n",
       "...                ...        ...               ...   ...       ...\n",
       "6660  MBSMPL0020-6-998         16  Actinobacteriota     7  0.047280\n",
       "6661  MBSMPL0020-6-998         16      Bacteroidota     7  0.452827\n",
       "6662  MBSMPL0020-6-998         16  Campilobacterota     7  0.000377\n",
       "6663  MBSMPL0020-6-998         16        Firmicutes     7  0.356165\n",
       "6664  MBSMPL0020-6-998         16    Fusobacteriota     7  0.143349\n",
       "\n",
       "[4954 rows x 5 columns]"
      ]
     },
     "execution_count": 6,
     "metadata": {},
     "output_type": "execute_result"
    }
   ],
   "source": [
    "data"
   ]
  },
  {
   "cell_type": "code",
   "execution_count": 7,
   "metadata": {},
   "outputs": [
    {
     "data": {
      "text/plain": [
       "621"
      ]
     },
     "execution_count": 7,
     "metadata": {},
     "output_type": "execute_result"
    }
   ],
   "source": [
    "len(features)"
   ]
  },
  {
   "cell_type": "markdown",
   "metadata": {},
   "source": [
    "# Train qnet"
   ]
  },
  {
   "cell_type": "code",
   "execution_count": 8,
   "metadata": {},
   "outputs": [],
   "source": [
    "# should take < 5 min to run\n",
    "qnet_orchestrator.train_qnet(\n",
    "    features, label_matrix, alpha=0.2, min_samples_split=2, \n",
    "    out_fname='biome_net_test2.joblib')"
   ]
  },
  {
   "cell_type": "markdown",
   "metadata": {},
   "source": [
    "# Use the mask checker to mask 20% of the label matrix and use qnet to predict"
   ]
  },
  {
   "cell_type": "code",
   "execution_count": null,
   "metadata": {},
   "outputs": [],
   "source": [
    "mask_checker = MaskChecker(qnet_orchestrator)"
   ]
  },
  {
   "cell_type": "code",
   "execution_count": null,
   "metadata": {},
   "outputs": [],
   "source": [
    "# takes 2 minutes to run\n",
    "predicted = mask_checker.mask_and_predict(label_matrix, mask_percent=20)"
   ]
  },
  {
   "cell_type": "code",
   "execution_count": null,
   "metadata": {},
   "outputs": [],
   "source": [
    "predicted.head()"
   ]
  },
  {
   "cell_type": "markdown",
   "metadata": {},
   "source": [
    "# Plot the predicted vs. original biome measurements"
   ]
  },
  {
   "cell_type": "code",
   "execution_count": null,
   "metadata": {},
   "outputs": [],
   "source": [
    "BIOMES = ['Actinobacteriota', 'Bacteroidota', 'Firmicutes', 'Proteobacteria', 'unclassified_Bacteria']\n",
    "\n",
    "concat = pd.concat([\n",
    "    data.assign(source='original'), \n",
    "    predicted.assign(source='predicted')\n",
    "])\n",
    "concat = concat[concat.variable.isin(BIOMES)]\n",
    "\n",
    "g = sns.FacetGrid(concat, col='variable', col_wrap=2, sharey=False, margin_titles=True)\n",
    "g.map_dataframe(sns.lineplot, 'week', 'value', hue='source', ci=None, marker='o',\n",
    "                    linewidth=2, alpha=0.75, markersize=5)\n",
    "g.set_titles(row_template = '{row_name}', col_template = '{col_name}')\n",
    "g.add_legend()"
   ]
  },
  {
   "cell_type": "markdown",
   "metadata": {},
   "source": [
    "It appears that the prediction passes our eyeball sanity check."
   ]
  },
  {
   "cell_type": "markdown",
   "metadata": {},
   "source": [
    "We zoom in to look at the first 20 weeks."
   ]
  },
  {
   "cell_type": "code",
   "execution_count": null,
   "metadata": {
    "scrolled": false
   },
   "outputs": [],
   "source": [
    "concat = concat[(concat.week <= 20)]\n",
    "\n",
    "g = sns.FacetGrid(concat, col='variable', col_wrap=2, sharey=False, margin_titles=True)\n",
    "g.map_dataframe(sns.lineplot, 'week', 'value', hue='source', ci=None, marker='o',\n",
    "                    linewidth=2, alpha=0.75, markersize=5)\n",
    "g.set_titles(row_template = '{row_name}', col_template = '{col_name}')\n",
    "g.add_legend()"
   ]
  },
  {
   "cell_type": "markdown",
   "metadata": {},
   "source": [
    "To increase the precision of the prediction, we can apply the random forest regressor in the quantizer. See the example below when we use the forecaster."
   ]
  },
  {
   "cell_type": "markdown",
   "metadata": {},
   "source": [
    "# Use the forecaster to sequentially mask part of the original data and predict"
   ]
  },
  {
   "cell_type": "code",
   "execution_count": null,
   "metadata": {},
   "outputs": [],
   "source": [
    "forecaster = Forecaster(qnet_orchestrator)"
   ]
  },
  {
   "cell_type": "code",
   "execution_count": null,
   "metadata": {},
   "outputs": [],
   "source": [
    "# takes 10 minutes to run\n",
    "# can specify an end week or default to the max end week in the data\n",
    "forecasted = forecaster.forecast_data(\n",
    "    label_matrix, \n",
    "    start_week=10,\n",
    "#     end_week=data.week.max()\n",
    ")"
   ]
  },
  {
   "cell_type": "code",
   "execution_count": null,
   "metadata": {},
   "outputs": [],
   "source": [
    "forecasted.head()"
   ]
  },
  {
   "cell_type": "markdown",
   "metadata": {},
   "source": [
    "## Apply the random forest regressor in the quantizer"
   ]
  },
  {
   "cell_type": "code",
   "execution_count": null,
   "metadata": {},
   "outputs": [],
   "source": [
    "dequantized = quantizer.dequantize_to_df(label_matrix)\n",
    "dequantized_plot = quantizer.melt_into_plot_format(dequantized)\n",
    "quantizer.fit_random_forest(data, dequantized_plot)"
   ]
  },
  {
   "cell_type": "code",
   "execution_count": null,
   "metadata": {},
   "outputs": [],
   "source": [
    "avg_forecasted_regressed = quantizer.apply_random_forest_regressor(\n",
    "    forecasted)"
   ]
  },
  {
   "cell_type": "code",
   "execution_count": null,
   "metadata": {},
   "outputs": [],
   "source": [
    "concat = pd.concat([\n",
    "    data.assign(source='original'), \n",
    "    avg_forecasted_regressed.assign(source='forecasted')\n",
    "])\n",
    "concat = concat[concat.variable.isin(BIOMES)]\n",
    "concat = concat[(concat.week <= 20)]\n",
    "\n",
    "g = sns.FacetGrid(concat, col='variable', col_wrap=2, sharey=False, margin_titles=True)\n",
    "g.map_dataframe(sns.lineplot, 'week', 'value', hue='source', ci=None, marker='o',\n",
    "                    linewidth=2, alpha=0.75, markersize=5)\n",
    "g.set_titles(row_template = '{row_name}', col_template = '{col_name}')\n",
    "g.add_legend()"
   ]
  },
  {
   "cell_type": "markdown",
   "metadata": {},
   "source": [
    "# Construct a new subject using the quantizer and forecast"
   ]
  },
  {
   "cell_type": "code",
   "execution_count": null,
   "metadata": {},
   "outputs": [],
   "source": [
    "BIOMES = ['Actinobacteriota', 'Bacteroidota', 'Firmicutes', 'Proteobacteria', 'unclassified_Bacteria']\n",
    "\n",
    "new_subject = pd.DataFrame({\n",
    "    'week': [1] * len(BIOMES),\n",
    "    'variable': BIOMES,\n",
    "    'value': np.random.rand(len(BIOMES))\n",
    "})"
   ]
  },
  {
   "cell_type": "code",
   "execution_count": null,
   "metadata": {},
   "outputs": [],
   "source": [
    "new_subject"
   ]
  },
  {
   "cell_type": "code",
   "execution_count": null,
   "metadata": {},
   "outputs": [],
   "source": [
    "new_subject_quantized = quantizer.quantize_new_subject(new_subject, subject_id='101')"
   ]
  },
  {
   "cell_type": "code",
   "execution_count": null,
   "metadata": {},
   "outputs": [],
   "source": [
    "new_subject_quantized.head()"
   ]
  },
  {
   "cell_type": "code",
   "execution_count": null,
   "metadata": {},
   "outputs": [],
   "source": [
    "# convert this new subject into a format acceptable by the qnet\n",
    "_, new_subject_matrix = quantizer.get_qnet_inputs(new_subject)"
   ]
  },
  {
   "cell_type": "markdown",
   "metadata": {},
   "source": [
    "## Forecast the data starting from week 1 to the last week"
   ]
  },
  {
   "cell_type": "code",
   "execution_count": null,
   "metadata": {},
   "outputs": [],
   "source": [
    "# takes 2 minutes to run\n",
    "new_subject_forecasted = forecaster.forecast_data(\n",
    "    new_subject_matrix, \n",
    "    start_week=1\n",
    ")"
   ]
  },
  {
   "cell_type": "code",
   "execution_count": null,
   "metadata": {},
   "outputs": [],
   "source": [
    "new_subject_forecasted.head()"
   ]
  },
  {
   "cell_type": "markdown",
   "metadata": {},
   "source": [
    "The NaNs are due to the random values we generated falling outside the quantization range."
   ]
  },
  {
   "cell_type": "code",
   "execution_count": null,
   "metadata": {},
   "outputs": [],
   "source": [
    "plottable = new_subject_forecasted[new_subject_forecasted.variable.isin(BIOMES)]\n",
    "\n",
    "g = sns.FacetGrid(plottable, col='variable', col_wrap=2, sharey=False, margin_titles=True)\n",
    "g.map_dataframe(sns.lineplot, 'week', 'value', ci=None, marker='o',\n",
    "                    linewidth=2, alpha=0.75, markersize=5)\n",
    "g.set_titles(row_template = '{row_name}', col_template = '{col_name}')\n",
    "g.add_legend()"
   ]
  },
  {
   "cell_type": "code",
   "execution_count": null,
   "metadata": {},
   "outputs": [],
   "source": [
    "# zoom into the first 20 weeks\n",
    "plottable = new_subject_forecasted[\n",
    "    (new_subject_forecasted.variable.isin(BIOMES)) &\n",
    "    (new_subject_forecasted.week <= 20)\n",
    "     ]\n",
    "\n",
    "g = sns.FacetGrid(plottable, col='variable', col_wrap=2, sharey=False, margin_titles=True)\n",
    "g.map_dataframe(sns.lineplot, 'week', 'value', ci=None, marker='o',\n",
    "                    linewidth=2, alpha=0.75, markersize=5)\n",
    "g.set_titles(row_template = '{row_name}', col_template = '{col_name}')\n",
    "g.add_legend()"
   ]
  },
  {
   "cell_type": "code",
   "execution_count": null,
   "metadata": {},
   "outputs": [],
   "source": []
  }
 ],
 "metadata": {
  "kernelspec": {
   "display_name": "qnet-dev",
   "language": "python",
   "name": "qnet-dev"
  },
  "language_info": {
   "codemirror_mode": {
    "name": "ipython",
    "version": 3
   },
   "file_extension": ".py",
   "mimetype": "text/x-python",
   "name": "python",
   "nbconvert_exporter": "python",
   "pygments_lexer": "ipython3",
   "version": "3.7.7"
  }
 },
 "nbformat": 4,
 "nbformat_minor": 4
}
