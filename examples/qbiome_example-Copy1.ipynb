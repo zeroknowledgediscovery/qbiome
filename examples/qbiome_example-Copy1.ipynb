{
 "cells": [
  {
   "cell_type": "markdown",
   "metadata": {},
   "source": [
    "# Import qbiome"
   ]
  },
  {
   "cell_type": "code",
   "execution_count": 15,
   "metadata": {},
   "outputs": [],
   "source": [
    "import qbiome\n",
    "from qbiome.data_formatter import DataFormatter\n",
    "from qbiome.quantizer import Quantizer\n",
    "from qbiome.qnet_orchestrator import QnetOrchestrator\n",
    "from qbiome.mask_checker import MaskChecker\n",
    "from qbiome.forecaster import Forecaster\n",
    "from qbiome.hypothesis import Hypothesis"
   ]
  },
  {
   "cell_type": "code",
   "execution_count": 16,
   "metadata": {},
   "outputs": [],
   "source": [
    "from qbiome.qutil import customDataFormatter"
   ]
  },
  {
   "cell_type": "markdown",
   "metadata": {},
   "source": [
    "# Import other packages"
   ]
  },
  {
   "cell_type": "code",
   "execution_count": 17,
   "metadata": {},
   "outputs": [],
   "source": [
    "import numpy as np\n",
    "import pandas as pd\n",
    "import matplotlib.pyplot as plt\n",
    "import seaborn as sns\n",
    "sns.set_theme()\n",
    "plt.style.use('ggplot')"
   ]
  },
  {
   "cell_type": "markdown",
   "metadata": {},
   "source": [
    "# Data"
   ]
  },
  {
   "cell_type": "code",
   "execution_count": 18,
   "metadata": {},
   "outputs": [],
   "source": [
    "dirname = 'example_data/'\n",
    "data = dirname + 'hc_Phylum_GTDB_denoised_filtered_percent.csv'\n",
    "meta = dirname + 'hc_metadata.csv'"
   ]
  },
  {
   "cell_type": "markdown",
   "metadata": {},
   "source": [
    "# Instantiate the data formatter, quantizer, qnet orchestrator"
   ]
  },
  {
   "cell_type": "code",
   "execution_count": 19,
   "metadata": {},
   "outputs": [],
   "source": [
    "data,property_map=customDataFormatter(data,meta,\n",
    "                        META_PROP=['hc', 'HCZ', 'sex', 'hc_Birth',\n",
    "           'HCZ_Birth', 'hc_Discharge', 'HCZ_Discharge',\n",
    "           'HCZ_discharge_birth_difference', 'HCZ_Category',\n",
    "           'HCZ_difference_Category', 'NEC', 'IVH', 'ROP', 'BPD', 'Infection',\n",
    "           'total_Morbidities', 'Morbidity_Category', 'TIMPS score',\n",
    "           'TIMPS z-score', 'TIMPS Category'],\n",
    "                        COL_SELECT={\"Samples\": \"sample_id\", \"PTID\": \"subject_id\", \"PMA\":\"week\"})"
   ]
  },
  {
   "cell_type": "code",
   "execution_count": 20,
   "metadata": {},
   "outputs": [],
   "source": [
    "quantizer = Quantizer()\n",
    "qnet_orchestrator = QnetOrchestrator(quantizer)"
   ]
  },
  {
   "cell_type": "markdown",
   "metadata": {},
   "source": [
    "# Load, quantize, and convert the data to qnet input format"
   ]
  },
  {
   "cell_type": "code",
   "execution_count": 21,
   "metadata": {
    "scrolled": true
   },
   "outputs": [],
   "source": [
    "#data = formatter.load_data(data, meta)\n",
    "quantized = quantizer.quantize_df(data)\n",
    "features, label_matrix = quantizer.get_qnet_inputs(quantized)"
   ]
  },
  {
   "cell_type": "code",
   "execution_count": 22,
   "metadata": {},
   "outputs": [
    {
     "data": {
      "text/html": [
       "<div>\n",
       "<style scoped>\n",
       "    .dataframe tbody tr th:only-of-type {\n",
       "        vertical-align: middle;\n",
       "    }\n",
       "\n",
       "    .dataframe tbody tr th {\n",
       "        vertical-align: top;\n",
       "    }\n",
       "\n",
       "    .dataframe thead th {\n",
       "        text-align: right;\n",
       "    }\n",
       "</style>\n",
       "<table border=\"1\" class=\"dataframe\">\n",
       "  <thead>\n",
       "    <tr style=\"text-align: right;\">\n",
       "      <th></th>\n",
       "      <th>subject_id</th>\n",
       "      <th>Acidobacteriota_24</th>\n",
       "      <th>Acidobacteriota_26</th>\n",
       "      <th>Acidobacteriota_27</th>\n",
       "      <th>Acidobacteriota_28</th>\n",
       "      <th>Acidobacteriota_29</th>\n",
       "      <th>Acidobacteriota_30</th>\n",
       "      <th>Acidobacteriota_31</th>\n",
       "      <th>Acidobacteriota_32</th>\n",
       "      <th>Acidobacteriota_33</th>\n",
       "      <th>...</th>\n",
       "      <th>unclassified_Bacteria_34</th>\n",
       "      <th>unclassified_Bacteria_35</th>\n",
       "      <th>unclassified_Bacteria_36</th>\n",
       "      <th>unclassified_Bacteria_37</th>\n",
       "      <th>unclassified_Bacteria_38</th>\n",
       "      <th>unclassified_Bacteria_39</th>\n",
       "      <th>unclassified_Bacteria_40</th>\n",
       "      <th>unclassified_Bacteria_41</th>\n",
       "      <th>unclassified_Bacteria_42</th>\n",
       "      <th>unclassified_Bacteria_43</th>\n",
       "    </tr>\n",
       "  </thead>\n",
       "  <tbody>\n",
       "    <tr>\n",
       "      <th>0</th>\n",
       "      <td>100001</td>\n",
       "      <td>NaN</td>\n",
       "      <td>NaN</td>\n",
       "      <td>NaN</td>\n",
       "      <td>NaN</td>\n",
       "      <td>NaN</td>\n",
       "      <td>A</td>\n",
       "      <td>A</td>\n",
       "      <td>A</td>\n",
       "      <td>NaN</td>\n",
       "      <td>...</td>\n",
       "      <td>A</td>\n",
       "      <td>A</td>\n",
       "      <td>A</td>\n",
       "      <td>A</td>\n",
       "      <td>NaN</td>\n",
       "      <td>A</td>\n",
       "      <td>A</td>\n",
       "      <td>NaN</td>\n",
       "      <td>NaN</td>\n",
       "      <td>NaN</td>\n",
       "    </tr>\n",
       "    <tr>\n",
       "      <th>1</th>\n",
       "      <td>100002</td>\n",
       "      <td>NaN</td>\n",
       "      <td>NaN</td>\n",
       "      <td>NaN</td>\n",
       "      <td>NaN</td>\n",
       "      <td>NaN</td>\n",
       "      <td>NaN</td>\n",
       "      <td>NaN</td>\n",
       "      <td>NaN</td>\n",
       "      <td>A</td>\n",
       "      <td>...</td>\n",
       "      <td>A</td>\n",
       "      <td>NaN</td>\n",
       "      <td>NaN</td>\n",
       "      <td>NaN</td>\n",
       "      <td>NaN</td>\n",
       "      <td>NaN</td>\n",
       "      <td>NaN</td>\n",
       "      <td>NaN</td>\n",
       "      <td>NaN</td>\n",
       "      <td>NaN</td>\n",
       "    </tr>\n",
       "    <tr>\n",
       "      <th>2</th>\n",
       "      <td>100003</td>\n",
       "      <td>NaN</td>\n",
       "      <td>NaN</td>\n",
       "      <td>NaN</td>\n",
       "      <td>NaN</td>\n",
       "      <td>A</td>\n",
       "      <td>A</td>\n",
       "      <td>A</td>\n",
       "      <td>A</td>\n",
       "      <td>NaN</td>\n",
       "      <td>...</td>\n",
       "      <td>NaN</td>\n",
       "      <td>NaN</td>\n",
       "      <td>NaN</td>\n",
       "      <td>E</td>\n",
       "      <td>NaN</td>\n",
       "      <td>NaN</td>\n",
       "      <td>NaN</td>\n",
       "      <td>NaN</td>\n",
       "      <td>NaN</td>\n",
       "      <td>NaN</td>\n",
       "    </tr>\n",
       "    <tr>\n",
       "      <th>3</th>\n",
       "      <td>100004</td>\n",
       "      <td>NaN</td>\n",
       "      <td>C</td>\n",
       "      <td>A</td>\n",
       "      <td>C</td>\n",
       "      <td>NaN</td>\n",
       "      <td>NaN</td>\n",
       "      <td>A</td>\n",
       "      <td>NaN</td>\n",
       "      <td>NaN</td>\n",
       "      <td>...</td>\n",
       "      <td>A</td>\n",
       "      <td>A</td>\n",
       "      <td>NaN</td>\n",
       "      <td>NaN</td>\n",
       "      <td>NaN</td>\n",
       "      <td>NaN</td>\n",
       "      <td>NaN</td>\n",
       "      <td>NaN</td>\n",
       "      <td>NaN</td>\n",
       "      <td>NaN</td>\n",
       "    </tr>\n",
       "    <tr>\n",
       "      <th>4</th>\n",
       "      <td>100005</td>\n",
       "      <td>NaN</td>\n",
       "      <td>NaN</td>\n",
       "      <td>NaN</td>\n",
       "      <td>NaN</td>\n",
       "      <td>NaN</td>\n",
       "      <td>NaN</td>\n",
       "      <td>A</td>\n",
       "      <td>NaN</td>\n",
       "      <td>NaN</td>\n",
       "      <td>...</td>\n",
       "      <td>A</td>\n",
       "      <td>NaN</td>\n",
       "      <td>NaN</td>\n",
       "      <td>NaN</td>\n",
       "      <td>A</td>\n",
       "      <td>NaN</td>\n",
       "      <td>NaN</td>\n",
       "      <td>NaN</td>\n",
       "      <td>NaN</td>\n",
       "      <td>NaN</td>\n",
       "    </tr>\n",
       "  </tbody>\n",
       "</table>\n",
       "<p>5 rows × 533 columns</p>\n",
       "</div>"
      ],
      "text/plain": [
       "   subject_id Acidobacteriota_24 Acidobacteriota_26 Acidobacteriota_27  \\\n",
       "0      100001                NaN                NaN                NaN   \n",
       "1      100002                NaN                NaN                NaN   \n",
       "2      100003                NaN                NaN                NaN   \n",
       "3      100004                NaN                  C                  A   \n",
       "4      100005                NaN                NaN                NaN   \n",
       "\n",
       "  Acidobacteriota_28 Acidobacteriota_29 Acidobacteriota_30 Acidobacteriota_31  \\\n",
       "0                NaN                NaN                  A                  A   \n",
       "1                NaN                NaN                NaN                NaN   \n",
       "2                NaN                  A                  A                  A   \n",
       "3                  C                NaN                NaN                  A   \n",
       "4                NaN                NaN                NaN                  A   \n",
       "\n",
       "  Acidobacteriota_32 Acidobacteriota_33  ... unclassified_Bacteria_34  \\\n",
       "0                  A                NaN  ...                        A   \n",
       "1                NaN                  A  ...                        A   \n",
       "2                  A                NaN  ...                      NaN   \n",
       "3                NaN                NaN  ...                        A   \n",
       "4                NaN                NaN  ...                        A   \n",
       "\n",
       "  unclassified_Bacteria_35 unclassified_Bacteria_36 unclassified_Bacteria_37  \\\n",
       "0                        A                        A                        A   \n",
       "1                      NaN                      NaN                      NaN   \n",
       "2                      NaN                      NaN                        E   \n",
       "3                        A                      NaN                      NaN   \n",
       "4                      NaN                      NaN                      NaN   \n",
       "\n",
       "  unclassified_Bacteria_38 unclassified_Bacteria_39 unclassified_Bacteria_40  \\\n",
       "0                      NaN                        A                        A   \n",
       "1                      NaN                      NaN                      NaN   \n",
       "2                      NaN                      NaN                      NaN   \n",
       "3                      NaN                      NaN                      NaN   \n",
       "4                        A                      NaN                      NaN   \n",
       "\n",
       "  unclassified_Bacteria_41 unclassified_Bacteria_42 unclassified_Bacteria_43  \n",
       "0                      NaN                      NaN                      NaN  \n",
       "1                      NaN                      NaN                      NaN  \n",
       "2                      NaN                      NaN                      NaN  \n",
       "3                      NaN                      NaN                      NaN  \n",
       "4                      NaN                      NaN                      NaN  \n",
       "\n",
       "[5 rows x 533 columns]"
      ]
     },
     "execution_count": 22,
     "metadata": {},
     "output_type": "execute_result"
    }
   ],
   "source": [
    "quantized.head()"
   ]
  },
  {
   "cell_type": "code",
   "execution_count": 23,
   "metadata": {},
   "outputs": [
    {
     "data": {
      "text/plain": [
       "532"
      ]
     },
     "execution_count": 23,
     "metadata": {},
     "output_type": "execute_result"
    }
   ],
   "source": [
    "len(features)"
   ]
  },
  {
   "cell_type": "markdown",
   "metadata": {},
   "source": [
    "# Train qnet"
   ]
  },
  {
   "cell_type": "code",
   "execution_count": null,
   "metadata": {},
   "outputs": [],
   "source": [
    "# should take < 5 min to run\n",
    "qnet_orchestrator.train_qnet(\n",
    "    features, label_matrix, alpha=0.2, min_samples_split=2, \n",
    "    out_fname='biome_net_hc.joblib')"
   ]
  },
  {
   "cell_type": "markdown",
   "metadata": {},
   "source": [
    "# Use the mask checker to mask 20% of the label matrix and use qnet to predict"
   ]
  },
  {
   "cell_type": "code",
   "execution_count": null,
   "metadata": {},
   "outputs": [],
   "source": [
    "mask_checker = MaskChecker(qnet_orchestrator)"
   ]
  },
  {
   "cell_type": "code",
   "execution_count": null,
   "metadata": {},
   "outputs": [],
   "source": [
    "# takes 2 minutes to run\n",
    "predicted = mask_checker.mask_and_predict(label_matrix, mask_percent=20)"
   ]
  },
  {
   "cell_type": "code",
   "execution_count": null,
   "metadata": {},
   "outputs": [],
   "source": [
    "predicted.head()"
   ]
  },
  {
   "cell_type": "markdown",
   "metadata": {},
   "source": [
    "# Plot the predicted vs. original biome measurements"
   ]
  },
  {
   "cell_type": "code",
   "execution_count": null,
   "metadata": {},
   "outputs": [],
   "source": [
    "BIOMES = ['Actinobacteriota', 'Bacteroidota', 'Firmicutes', 'Proteobacteria', 'unclassified_Bacteria']\n",
    "\n",
    "concat = pd.concat([\n",
    "    data.assign(source='original'), \n",
    "    predicted.assign(source='predicted')\n",
    "])\n",
    "concat = concat[concat.variable.isin(BIOMES)]\n",
    "\n",
    "g = sns.FacetGrid(concat, col='variable', col_wrap=2, sharey=False, margin_titles=True)\n",
    "g.map_dataframe(sns.lineplot, 'week', 'value', hue='source', ci=None, marker='o',\n",
    "                    linewidth=2, alpha=0.75, markersize=5)\n",
    "g.set_titles(row_template = '{row_name}', col_template = '{col_name}')\n",
    "g.add_legend()"
   ]
  },
  {
   "cell_type": "markdown",
   "metadata": {},
   "source": [
    "It appears that the prediction passes our eyeball sanity check."
   ]
  },
  {
   "cell_type": "markdown",
   "metadata": {},
   "source": [
    "We zoom in to look at the first 20 weeks."
   ]
  },
  {
   "cell_type": "code",
   "execution_count": null,
   "metadata": {
    "scrolled": false
   },
   "outputs": [],
   "source": [
    "concat = concat[(concat.week <= 20)]\n",
    "\n",
    "g = sns.FacetGrid(concat, col='variable', col_wrap=2, sharey=False, margin_titles=True)\n",
    "g.map_dataframe(sns.lineplot, 'week', 'value', hue='source', ci=None, marker='o',\n",
    "                    linewidth=2, alpha=0.75, markersize=5)\n",
    "g.set_titles(row_template = '{row_name}', col_template = '{col_name}')\n",
    "g.add_legend()"
   ]
  },
  {
   "cell_type": "markdown",
   "metadata": {},
   "source": [
    "To increase the precision of the prediction, we can apply the random forest regressor in the quantizer. See the example below when we use the forecaster."
   ]
  },
  {
   "cell_type": "markdown",
   "metadata": {},
   "source": [
    "# Use the forecaster to sequentially mask part of the original data and predict"
   ]
  },
  {
   "cell_type": "code",
   "execution_count": null,
   "metadata": {},
   "outputs": [],
   "source": [
    "forecaster = Forecaster(qnet_orchestrator)"
   ]
  },
  {
   "cell_type": "code",
   "execution_count": null,
   "metadata": {},
   "outputs": [],
   "source": [
    "# takes 10 minutes to run\n",
    "# can specify an end week or default to the max end week in the data\n",
    "forecasted = forecaster.forecast_data(\n",
    "    label_matrix, \n",
    "    start_week=10,\n",
    "#     end_week=data.week.max()\n",
    ")"
   ]
  },
  {
   "cell_type": "code",
   "execution_count": null,
   "metadata": {},
   "outputs": [],
   "source": [
    "forecasted.head()"
   ]
  },
  {
   "cell_type": "markdown",
   "metadata": {},
   "source": [
    "## Apply the random forest regressor in the quantizer"
   ]
  },
  {
   "cell_type": "code",
   "execution_count": null,
   "metadata": {},
   "outputs": [],
   "source": [
    "dequantized = quantizer.dequantize_to_df(label_matrix)\n",
    "dequantized_plot = quantizer.melt_into_plot_format(dequantized)\n",
    "quantizer.fit_random_forest(data, dequantized_plot)"
   ]
  },
  {
   "cell_type": "code",
   "execution_count": null,
   "metadata": {},
   "outputs": [],
   "source": [
    "avg_forecasted_regressed = quantizer.apply_random_forest_regressor(\n",
    "    forecasted)"
   ]
  },
  {
   "cell_type": "code",
   "execution_count": null,
   "metadata": {},
   "outputs": [],
   "source": [
    "concat = pd.concat([\n",
    "    data.assign(source='original'), \n",
    "    avg_forecasted_regressed.assign(source='forecasted')\n",
    "])\n",
    "concat = concat[concat.variable.isin(BIOMES)]\n",
    "concat = concat[(concat.week <= 20)]\n",
    "\n",
    "g = sns.FacetGrid(concat, col='variable', col_wrap=2, sharey=False, margin_titles=True)\n",
    "g.map_dataframe(sns.lineplot, 'week', 'value', hue='source', ci=None, marker='o',\n",
    "                    linewidth=2, alpha=0.75, markersize=5)\n",
    "g.set_titles(row_template = '{row_name}', col_template = '{col_name}')\n",
    "g.add_legend()"
   ]
  },
  {
   "cell_type": "markdown",
   "metadata": {},
   "source": [
    "# Use the forecaster to predict new data\n",
    "\n",
    "We construct a new patient from the quantized data column names because it contains all the feature names that the qnet uses."
   ]
  },
  {
   "cell_type": "code",
   "execution_count": null,
   "metadata": {},
   "outputs": [],
   "source": [
    "new_subject_id = '101'\n",
    "np.random.seed(10001)\n",
    "# initialize with random floats\n",
    "new_patient = pd.DataFrame(\n",
    "    np.random.rand(1, len(quantized.columns)),\n",
    "    index=[0],\n",
    "    columns=quantized.columns\n",
    ")\n",
    "new_patient.subject_id = new_subject_id\n",
    "new_patient"
   ]
  },
  {
   "cell_type": "code",
   "execution_count": null,
   "metadata": {},
   "outputs": [],
   "source": [
    "new_patient_seq = new_patient.drop(columns='subject_id').to_numpy().squeeze()\n",
    "new_patient_seq.shape"
   ]
  },
  {
   "cell_type": "code",
   "execution_count": null,
   "metadata": {},
   "outputs": [],
   "source": [
    "# suppose we only have 6 weeks of data for the new patient\n",
    "# we mask out the remainder of the weeks\n",
    "new_patient_masked = qnet_orchestrator.mask_sequence_at_weeks(\n",
    "    new_patient_seq, \n",
    "    start_week=7, \n",
    "    end_week=qnet_orchestrator.get_max_timestamp(),\n",
    "    fill_value=np.nan\n",
    ")"
   ]
  },
  {
   "cell_type": "code",
   "execution_count": null,
   "metadata": {},
   "outputs": [],
   "source": [
    "new_patient_df = quantizer.add_meta_to_matrix(\n",
    "    new_patient_masked[np.newaxis, :],\n",
    "    add_subject_id=False\n",
    ")\n",
    "# manually add back subject_id\n",
    "new_patient_df.insert(0, 'subject_id', [new_subject_id])\n",
    "new_patient_df"
   ]
  },
  {
   "cell_type": "code",
   "execution_count": null,
   "metadata": {},
   "outputs": [],
   "source": [
    "new_patient_df = quantizer.melt_into_plot_format(new_patient_df)\n",
    "new_patient_df"
   ]
  },
  {
   "cell_type": "code",
   "execution_count": null,
   "metadata": {},
   "outputs": [],
   "source": [
    "# quantize\n",
    "new_patient_quantized = quantizer.quantize_df(new_patient_df)\n",
    "# convert this patient into a format acceptable by the qnet\n",
    "_, new_patient_matrix = quantizer.get_qnet_inputs(new_patient_quantized)\n",
    "new_patient_matrix.shape"
   ]
  },
  {
   "cell_type": "markdown",
   "metadata": {},
   "source": [
    "## Forecast the data starting from week 7 to the last week"
   ]
  },
  {
   "cell_type": "code",
   "execution_count": null,
   "metadata": {},
   "outputs": [],
   "source": [
    "# takes 2 minutes to run\n",
    "new_patient_forecasted = forecaster.forecast_data(\n",
    "    new_patient_matrix, \n",
    "    start_week=7\n",
    ")"
   ]
  },
  {
   "cell_type": "code",
   "execution_count": null,
   "metadata": {},
   "outputs": [],
   "source": [
    "new_patient_forecasted.head()"
   ]
  },
  {
   "cell_type": "markdown",
   "metadata": {},
   "source": [
    "The NaNs are due to the random values we generated falling outside the quantization range."
   ]
  },
  {
   "cell_type": "code",
   "execution_count": null,
   "metadata": {},
   "outputs": [],
   "source": [
    "plottable = new_patient_forecasted[new_patient_forecasted.variable.isin(BIOMES)]\n",
    "\n",
    "g = sns.FacetGrid(plottable, col='variable', col_wrap=2, sharey=False, margin_titles=True)\n",
    "g.map_dataframe(sns.lineplot, 'week', 'value', ci=None, marker='o',\n",
    "                    linewidth=2, alpha=0.75, markersize=5)\n",
    "g.set_titles(row_template = '{row_name}', col_template = '{col_name}')\n",
    "g.add_legend()"
   ]
  },
  {
   "cell_type": "code",
   "execution_count": null,
   "metadata": {},
   "outputs": [],
   "source": [
    "# zoom into the first 20 weeks\n",
    "plottable = new_patient_forecasted[\n",
    "    (new_patient_forecasted.variable.isin(BIOMES)) &\n",
    "    (new_patient_forecasted.week <= 20)\n",
    "     ]\n",
    "\n",
    "g = sns.FacetGrid(plottable, col='variable', col_wrap=2, sharey=False, margin_titles=True)\n",
    "g.map_dataframe(sns.lineplot, 'week', 'value', ci=None, marker='o',\n",
    "                    linewidth=2, alpha=0.75, markersize=5)\n",
    "g.set_titles(row_template = '{row_name}', col_template = '{col_name}')\n",
    "g.add_legend()"
   ]
  },
  {
   "cell_type": "code",
   "execution_count": null,
   "metadata": {},
   "outputs": [],
   "source": []
  }
 ],
 "metadata": {
  "kernelspec": {
   "display_name": "Python 3",
   "language": "python",
   "name": "python3"
  },
  "language_info": {
   "codemirror_mode": {
    "name": "ipython",
    "version": 3
   },
   "file_extension": ".py",
   "mimetype": "text/x-python",
   "name": "python",
   "nbconvert_exporter": "python",
   "pygments_lexer": "ipython3",
   "version": "3.7.1"
  }
 },
 "nbformat": 4,
 "nbformat_minor": 4
}
