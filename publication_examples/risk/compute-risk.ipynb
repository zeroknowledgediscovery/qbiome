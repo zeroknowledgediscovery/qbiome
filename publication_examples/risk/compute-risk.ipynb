{
 "cells": [
  {
   "cell_type": "markdown",
   "id": "fdcda0be-37e6-4ea0-bbe4-c6954b24f985",
   "metadata": {},
   "source": [
    "# Computation of risk from abundance data\n"
   ]
  },
  {
   "cell_type": "code",
   "execution_count": 1,
   "id": "255375bd-8e5c-4dd7-8970-1f3c178858b1",
   "metadata": {},
   "outputs": [],
   "source": [
    "import numpy as np\n",
    "import pandas as pd\n",
    "from quasinet import qnet\n",
    "import qbiome.quantizer"
   ]
  },
  {
   "cell_type": "markdown",
   "id": "74e35942-097b-42c7-a6fc-bae14e7ac8f5",
   "metadata": {},
   "source": [
    "Load models:"
   ]
  },
  {
   "cell_type": "code",
   "execution_count": 2,
   "id": "f0380d6e-7659-4804-9294-407c4a09c149",
   "metadata": {},
   "outputs": [],
   "source": [
    "ahctg = qnet.load_qnet(\"appr.joblib\")\n",
    "shctg = qnet.load_qnet(\"sub.joblib\")"
   ]
  },
  {
   "cell_type": "code",
   "execution_count": 3,
   "id": "41e79bd4-56ad-4011-87cb-fc767045d660",
   "metadata": {},
   "outputs": [],
   "source": [
    "def risk(\n",
    "    data,\n",
    "    ahctg_model=ahctg,\n",
    "    shctg_model=shctg,\n",
    "):\n",
    "    \"\"\"\n",
    "    data: numpy array of quantized abundance samples\n",
    "    ahctg_model: qnet model of appropriate cohort\n",
    "    shctg_model: qnet model of suboptimal cohort\n",
    "    \"\"\"\n",
    "    null_seq = np.array([np.full_like(data[0, :], fill_value=\"\")])\n",
    "\n",
    "    risk_mat = qnet.qdistance_matrix(\n",
    "        data,\n",
    "        null_seq,\n",
    "        shctg,\n",
    "        shctg,\n",
    "    ) / qnet.qdistance_matrix(\n",
    "        data,\n",
    "        null_seq,\n",
    "        ahctg,\n",
    "        ahctg,\n",
    "    )\n",
    "\n",
    "    return risk_mat"
   ]
  },
  {
   "cell_type": "markdown",
   "id": "4a7c9a6a-53e2-44b3-8034-80a7bf72f4e1",
   "metadata": {},
   "source": [
    "## Risk from relative abundance values"
   ]
  },
  {
   "cell_type": "markdown",
   "id": "ead5bbbc-6510-4ce2-84b6-46df78f0d759",
   "metadata": {},
   "source": [
    "Load saved quantizer to quantize data"
   ]
  },
  {
   "cell_type": "code",
   "execution_count": 4,
   "id": "ef9121c9-fc76-408e-af78-e55c5c177c7b",
   "metadata": {},
   "outputs": [],
   "source": [
    "quantizer = qbiome.quantizer.Quantizer(num_levels=26)\n",
    "quantizer.load_quantizer_states('quantizer.pkl')"
   ]
  },
  {
   "cell_type": "markdown",
   "id": "c5323d57-7ab8-46da-8658-4115d8a63e7b",
   "metadata": {},
   "source": [
    "Load data, quantize, then convert to numpy format for qnet"
   ]
  },
  {
   "cell_type": "code",
   "execution_count": 5,
   "id": "be3c0c7a-27fa-4e96-83c4-c35b2f6a1ec2",
   "metadata": {},
   "outputs": [
    {
     "data": {
      "text/html": [
       "<div>\n",
       "<style scoped>\n",
       "    .dataframe tbody tr th:only-of-type {\n",
       "        vertical-align: middle;\n",
       "    }\n",
       "\n",
       "    .dataframe tbody tr th {\n",
       "        vertical-align: top;\n",
       "    }\n",
       "\n",
       "    .dataframe thead th {\n",
       "        text-align: right;\n",
       "    }\n",
       "</style>\n",
       "<table border=\"1\" class=\"dataframe\">\n",
       "  <thead>\n",
       "    <tr style=\"text-align: right;\">\n",
       "      <th></th>\n",
       "      <th>subject_id</th>\n",
       "      <th>Acidimicrobiia_25</th>\n",
       "      <th>Acidimicrobiia_26</th>\n",
       "      <th>Acidimicrobiia_27</th>\n",
       "      <th>Acidimicrobiia_28</th>\n",
       "      <th>Acidimicrobiia_29</th>\n",
       "      <th>Acidimicrobiia_30</th>\n",
       "      <th>Acidimicrobiia_31</th>\n",
       "      <th>Acidimicrobiia_32</th>\n",
       "      <th>Acidimicrobiia_33</th>\n",
       "      <th>...</th>\n",
       "      <th>unclassified_Verrucomicrobiota_27</th>\n",
       "      <th>unclassified_Verrucomicrobiota_28</th>\n",
       "      <th>unclassified_Verrucomicrobiota_29</th>\n",
       "      <th>unclassified_Verrucomicrobiota_30</th>\n",
       "      <th>unclassified_Verrucomicrobiota_31</th>\n",
       "      <th>unclassified_Verrucomicrobiota_32</th>\n",
       "      <th>unclassified_Verrucomicrobiota_33</th>\n",
       "      <th>unclassified_Verrucomicrobiota_34</th>\n",
       "      <th>unclassified_Verrucomicrobiota_35</th>\n",
       "      <th>unclassified_Verrucomicrobiota_36</th>\n",
       "    </tr>\n",
       "  </thead>\n",
       "  <tbody>\n",
       "    <tr>\n",
       "      <th>0</th>\n",
       "      <td>11</td>\n",
       "      <td>NaN</td>\n",
       "      <td>NaN</td>\n",
       "      <td>M</td>\n",
       "      <td>M</td>\n",
       "      <td>A</td>\n",
       "      <td>M</td>\n",
       "      <td>NaN</td>\n",
       "      <td>NaN</td>\n",
       "      <td>NaN</td>\n",
       "      <td>...</td>\n",
       "      <td>M</td>\n",
       "      <td>M</td>\n",
       "      <td>M</td>\n",
       "      <td>M</td>\n",
       "      <td>NaN</td>\n",
       "      <td>NaN</td>\n",
       "      <td>NaN</td>\n",
       "      <td>NaN</td>\n",
       "      <td>NaN</td>\n",
       "      <td>NaN</td>\n",
       "    </tr>\n",
       "    <tr>\n",
       "      <th>1</th>\n",
       "      <td>27</td>\n",
       "      <td>NaN</td>\n",
       "      <td>M</td>\n",
       "      <td>M</td>\n",
       "      <td>NaN</td>\n",
       "      <td>A</td>\n",
       "      <td>NaN</td>\n",
       "      <td>M</td>\n",
       "      <td>M</td>\n",
       "      <td>NaN</td>\n",
       "      <td>...</td>\n",
       "      <td>M</td>\n",
       "      <td>NaN</td>\n",
       "      <td>M</td>\n",
       "      <td>NaN</td>\n",
       "      <td>M</td>\n",
       "      <td>M</td>\n",
       "      <td>NaN</td>\n",
       "      <td>NaN</td>\n",
       "      <td>NaN</td>\n",
       "      <td>NaN</td>\n",
       "    </tr>\n",
       "  </tbody>\n",
       "</table>\n",
       "<p>2 rows × 1093 columns</p>\n",
       "</div>"
      ],
      "text/plain": [
       "   subject_id Acidimicrobiia_25 Acidimicrobiia_26 Acidimicrobiia_27  \\\n",
       "0          11               NaN               NaN                 M   \n",
       "1          27               NaN                 M                 M   \n",
       "\n",
       "  Acidimicrobiia_28 Acidimicrobiia_29 Acidimicrobiia_30 Acidimicrobiia_31  \\\n",
       "0                 M                 A                 M               NaN   \n",
       "1               NaN                 A               NaN                 M   \n",
       "\n",
       "  Acidimicrobiia_32 Acidimicrobiia_33  ... unclassified_Verrucomicrobiota_27  \\\n",
       "0               NaN               NaN  ...                                 M   \n",
       "1                 M               NaN  ...                                 M   \n",
       "\n",
       "  unclassified_Verrucomicrobiota_28 unclassified_Verrucomicrobiota_29  \\\n",
       "0                                 M                                 M   \n",
       "1                               NaN                                 M   \n",
       "\n",
       "  unclassified_Verrucomicrobiota_30 unclassified_Verrucomicrobiota_31  \\\n",
       "0                                 M                               NaN   \n",
       "1                               NaN                                 M   \n",
       "\n",
       "  unclassified_Verrucomicrobiota_32 unclassified_Verrucomicrobiota_33  \\\n",
       "0                               NaN                               NaN   \n",
       "1                                 M                               NaN   \n",
       "\n",
       "  unclassified_Verrucomicrobiota_34 unclassified_Verrucomicrobiota_35  \\\n",
       "0                               NaN                               NaN   \n",
       "1                               NaN                               NaN   \n",
       "\n",
       "  unclassified_Verrucomicrobiota_36  \n",
       "0                               NaN  \n",
       "1                               NaN  \n",
       "\n",
       "[2 rows x 1093 columns]"
      ]
     },
     "execution_count": 5,
     "metadata": {},
     "output_type": "execute_result"
    }
   ],
   "source": [
    "example_abundance_data = pd.read_csv('example_subjects.csv') # load data\n",
    "example_abundance_data_quantized = quantizer._quantize_df(example_abundance_data) # quantize\n",
    "example_abundance_data_np = np.char.replace( # convert to np.array for risk computation\n",
    "        example_abundance_data_quantized.drop(\"subject_id\", axis=1, errors=\"ignore\").to_numpy(dtype=\"str\"),\n",
    "        \"nan\",\n",
    "        \"\",\n",
    "    )\n",
    "example_abundance_data_quantized"
   ]
  },
  {
   "cell_type": "code",
   "execution_count": 6,
   "id": "5a878dc2-f08f-443b-a09a-a87aabbe3eb0",
   "metadata": {},
   "outputs": [
    {
     "data": {
      "text/plain": [
       "array([[0.80804781],\n",
       "       [1.12779862]])"
      ]
     },
     "execution_count": 6,
     "metadata": {},
     "output_type": "execute_result"
    }
   ],
   "source": [
    "risk(example_abundance_data_np)"
   ]
  },
  {
   "cell_type": "markdown",
   "id": "17d4aaa2-d5bc-445b-952e-d7f5e481ea27",
   "metadata": {},
   "source": [
    "## Risk from existing quantized abundances"
   ]
  },
  {
   "cell_type": "markdown",
   "id": "84a54b40-3ca5-45f7-80f0-c09a3e258590",
   "metadata": {},
   "source": [
    "Load file of all pre-quantized abundances:"
   ]
  },
  {
   "cell_type": "code",
   "execution_count": 7,
   "id": "033c43b3-8df1-4141-99ef-c328018f2cdb",
   "metadata": {},
   "outputs": [],
   "source": [
    "prequantized_data = np.loadtxt(\"abund_dat_quantized.txt\", dtype=\"<U1\", delimiter=\" \")"
   ]
  },
  {
   "cell_type": "code",
   "execution_count": 8,
   "id": "da77e08f-07ec-4084-98d3-ed51f08ce420",
   "metadata": {},
   "outputs": [
    {
     "data": {
      "text/plain": [
       "array([[0.65444916],\n",
       "       [0.95872929],\n",
       "       [1.0155565 ],\n",
       "       [0.76591529],\n",
       "       [1.06325994],\n",
       "       [0.72912112],\n",
       "       [0.98770607],\n",
       "       [0.74518964],\n",
       "       [1.34299046],\n",
       "       [1.1600274 ],\n",
       "       [1.59223262],\n",
       "       [0.80804781],\n",
       "       [0.93443369],\n",
       "       [1.0700751 ],\n",
       "       [0.63462867],\n",
       "       [0.51973498],\n",
       "       [0.66575817],\n",
       "       [1.04084963],\n",
       "       [0.76993127],\n",
       "       [0.9633952 ],\n",
       "       [1.40974047],\n",
       "       [       inf],\n",
       "       [1.43543213],\n",
       "       [0.2664582 ],\n",
       "       [1.40119216],\n",
       "       [0.45092225],\n",
       "       [2.59830513],\n",
       "       [1.12779862],\n",
       "       [1.83338529],\n",
       "       [1.00368983],\n",
       "       [1.21860718],\n",
       "       [0.34894849],\n",
       "       [0.93590533],\n",
       "       [1.17171557],\n",
       "       [1.16187922],\n",
       "       [2.28898152],\n",
       "       [0.61789316],\n",
       "       [0.67838671],\n",
       "       [1.29549634],\n",
       "       [4.02580222],\n",
       "       [0.95673041],\n",
       "       [1.15500722],\n",
       "       [0.93054767],\n",
       "       [0.56503308],\n",
       "       [1.10610798],\n",
       "       [1.12984665],\n",
       "       [0.90940088],\n",
       "       [0.9891727 ],\n",
       "       [1.45808145],\n",
       "       [1.70519051],\n",
       "       [1.52019793],\n",
       "       [0.56688337],\n",
       "       [1.20746273],\n",
       "       [1.33249429],\n",
       "       [1.36328268],\n",
       "       [4.19150484],\n",
       "       [3.85022724],\n",
       "       [0.60852763]])"
      ]
     },
     "execution_count": 8,
     "metadata": {},
     "output_type": "execute_result"
    }
   ],
   "source": [
    "risk(prequantized_data)"
   ]
  },
  {
   "cell_type": "code",
   "execution_count": null,
   "metadata": {},
   "outputs": [],
   "source": []
  }
 ],
 "metadata": {
  "kernelspec": {
   "display_name": "Python 3 (ipykernel)",
   "language": "python",
   "name": "python3"
  },
  "language_info": {
   "codemirror_mode": {
    "name": "ipython",
    "version": 3
   },
   "file_extension": ".py",
   "mimetype": "text/x-python",
   "name": "python",
   "nbconvert_exporter": "python",
   "pygments_lexer": "ipython3",
   "version": "3.10.6"
  }
 },
 "nbformat": 4,
 "nbformat_minor": 5
}
