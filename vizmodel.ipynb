{
 "cells": [
  {
   "cell_type": "code",
   "execution_count": 2,
   "metadata": {},
   "outputs": [],
   "source": [
    "from quasinet.qnet import load_qnet\n",
    "from quasinet import qnet"
   ]
  },
  {
   "cell_type": "code",
   "execution_count": 3,
   "metadata": {},
   "outputs": [],
   "source": [
    "OUTDIR='trees/'\n",
    "modelpath='./publication_examples/qnets/classification_ahctg.joblib'"
   ]
  },
  {
   "cell_type": "code",
   "execution_count": 4,
   "metadata": {},
   "outputs": [
    {
     "name": "stderr",
     "output_type": "stream",
     "text": [
      "/home/ishanu/.local/lib/python3.10/site-packages/sklearn/base.py:318: UserWarning: Trying to unpickle estimator OrdinalEncoder from version 1.1.1 when using version 1.2.2. This might lead to breaking code or invalid results. Use at your own risk. For more info please refer to:\n",
      "https://scikit-learn.org/stable/model_persistence.html#security-maintainability-limitations\n",
      "  warnings.warn(\n",
      "/home/ishanu/.local/lib/python3.10/site-packages/sklearn/base.py:318: UserWarning: Trying to unpickle estimator DecisionTreeRegressor from version 1.1.1 when using version 1.2.2. This might lead to breaking code or invalid results. Use at your own risk. For more info please refer to:\n",
      "https://scikit-learn.org/stable/model_persistence.html#security-maintainability-limitations\n",
      "  warnings.warn(\n",
      "/home/ishanu/.local/lib/python3.10/site-packages/sklearn/base.py:318: UserWarning: Trying to unpickle estimator RandomForestRegressor from version 1.1.1 when using version 1.2.2. This might lead to breaking code or invalid results. Use at your own risk. For more info please refer to:\n",
      "https://scikit-learn.org/stable/model_persistence.html#security-maintainability-limitations\n",
      "  warnings.warn(\n"
     ]
    }
   ],
   "source": [
    "model=load_qnet(modelpath,gz=False)"
   ]
  },
  {
   "cell_type": "code",
   "execution_count": 5,
   "metadata": {},
   "outputs": [
    {
     "name": "stderr",
     "output_type": "stream",
     "text": [
      "/home/ishanu/.local/lib/python3.10/site-packages/pygraphviz/agraph.py:1402: RuntimeWarning: Warning: Unknown \"splines\" value: \"straight\" - ignored\n",
      "\n",
      "  warnings.warn(b\"\".join(errors).decode(self.encoding), RuntimeWarning)\n"
     ]
    }
   ],
   "source": [
    "model.viz_trees(tree_path=OUTDIR,big_enough_threshold=1,format='png')"
   ]
  },
  {
   "cell_type": "code",
   "execution_count": 7,
   "metadata": {},
   "outputs": [],
   "source": [
    "model.viz_trees(tree_path=OUTDIR,big_enough_threshold=0,format='png')\n"
   ]
  },
  {
   "cell_type": "code",
   "execution_count": 8,
   "metadata": {},
   "outputs": [],
   "source": [
    "OUTDIR='trees_shtg/'\n",
    "modelpath='./publication_examples/qnets/classification_shctg.joblib'"
   ]
  },
  {
   "cell_type": "code",
   "execution_count": 9,
   "metadata": {},
   "outputs": [
    {
     "name": "stderr",
     "output_type": "stream",
     "text": [
      "/home/ishanu/.local/lib/python3.10/site-packages/sklearn/base.py:318: UserWarning: Trying to unpickle estimator OrdinalEncoder from version 1.1.1 when using version 1.2.2. This might lead to breaking code or invalid results. Use at your own risk. For more info please refer to:\n",
      "https://scikit-learn.org/stable/model_persistence.html#security-maintainability-limitations\n",
      "  warnings.warn(\n",
      "/home/ishanu/.local/lib/python3.10/site-packages/sklearn/base.py:318: UserWarning: Trying to unpickle estimator DecisionTreeRegressor from version 1.1.1 when using version 1.2.2. This might lead to breaking code or invalid results. Use at your own risk. For more info please refer to:\n",
      "https://scikit-learn.org/stable/model_persistence.html#security-maintainability-limitations\n",
      "  warnings.warn(\n",
      "/home/ishanu/.local/lib/python3.10/site-packages/sklearn/base.py:318: UserWarning: Trying to unpickle estimator RandomForestRegressor from version 1.1.1 when using version 1.2.2. This might lead to breaking code or invalid results. Use at your own risk. For more info please refer to:\n",
      "https://scikit-learn.org/stable/model_persistence.html#security-maintainability-limitations\n",
      "  warnings.warn(\n"
     ]
    }
   ],
   "source": [
    "models=load_qnet(modelpath,gz=False)"
   ]
  },
  {
   "cell_type": "code",
   "execution_count": 25,
   "metadata": {},
   "outputs": [],
   "source": [
    "models.viz_trees(tree_path=OUTDIR,big_enough_threshold=0,format='png',edge_color='white',edge_label_color='white',color_alpha=1.2,pen_width=4,text_color='white',edge_fontcolor='white')\n"
   ]
  },
  {
   "cell_type": "code",
   "execution_count": 24,
   "metadata": {},
   "outputs": [],
   "source": [
    "model.viz_trees(tree_path='trees/',big_enough_threshold=0,format='png',edge_color='white',edge_label_color='white',color_alpha=.8,pen_width=4,text_color='white',edge_fontcolor='white')\n"
   ]
  },
  {
   "cell_type": "code",
   "execution_count": 35,
   "metadata": {},
   "outputs": [],
   "source": [
    "import os\n",
    "from PIL import Image\n",
    "\n",
    "def load_images_from_folder(folder):\n",
    "    \"\"\"Load all images from the specified folder.\"\"\"\n",
    "    images = []\n",
    "    for filename in os.listdir(folder):\n",
    "        if filename.endswith(\".png\"):\n",
    "            img = Image.open(os.path.join(folder, filename))\n",
    "            if img is not None:\n",
    "                images.append(img)\n",
    "    return images\n",
    "\n",
    "def resize_images(images, target_size):\n",
    "    \"\"\"Resize all images to a specified target size.\"\"\"\n",
    "    resized_images = []\n",
    "    for img in images:\n",
    "        resized_images.append(img.resize(target_size, Image.ANTIALIAS))\n",
    "    return resized_images\n",
    "\n",
    "def create_montage(images, rows=4, background_color=(0, 0, 0), scale_images=False, target_size=(100, 100)):\n",
    "    \"\"\"Create a montage image with a specified number of rows and background color.\"\"\"\n",
    "    if scale_images:\n",
    "        images = resize_images(images, target_size)\n",
    "\n",
    "    if not images:\n",
    "        raise ValueError(\"No images to create a montage.\")\n",
    "    if rows <= 0:\n",
    "        raise ValueError(\"Number of rows must be positive.\")\n",
    "\n",
    "    # Determine the total width for all images\n",
    "    total_width = sum(img.width for img in images)\n",
    "    max_row_width = total_width // rows\n",
    "\n",
    "    # Create an initial large montage image\n",
    "    montage_height = sum(sorted([img.height for img in images], reverse=True)[:rows])\n",
    "    montage_image = Image.new('RGB', (max_row_width, montage_height), background_color)\n",
    "\n",
    "    y_offset = 0\n",
    "    for _ in range(rows):\n",
    "        x_offset = 0\n",
    "        max_height = 0\n",
    "\n",
    "        for img in images[:]:\n",
    "            if x_offset + img.width <= max_row_width:\n",
    "                montage_image.paste(img, (x_offset, y_offset))\n",
    "                x_offset += img.width\n",
    "                max_height = max(max_height, img.height)\n",
    "                images.remove(img)\n",
    "\n",
    "        y_offset += max_height\n",
    "\n",
    "    # Crop the montage to remove unused space\n",
    "    montage_image = montage_image.crop((0, 0, max_row_width, y_offset))\n",
    "    return montage_image"
   ]
  },
  {
   "cell_type": "code",
   "execution_count": 40,
   "metadata": {},
   "outputs": [],
   "source": [
    "folder = OUTDIRf  # Replace with the path to your directory\n",
    "images = load_images_from_folder(folder)\n",
    "montage = create_montage(images, rows=8, background_color=(0, 0, 0), scale_images=True, target_size=(300, 300))\n",
    "montage.save('montagefeed.png')  # Save the montage\n",
    "\n"
   ]
  },
  {
   "cell_type": "code",
   "execution_count": 27,
   "metadata": {},
   "outputs": [],
   "source": [
    "folder = './trees/'  # Replace with the path to your directory\n",
    "images = load_images_from_folder(folder)\n",
    "montage_width = calculate_montage_size(images)\n",
    "montage = create_montage(images, montage_width)\n",
    "montage.save('montage.png')  # Save the montage\n"
   ]
  },
  {
   "cell_type": "code",
   "execution_count": 29,
   "metadata": {},
   "outputs": [
    {
     "name": "stderr",
     "output_type": "stream",
     "text": [
      "/home/ishanu/.local/lib/python3.10/site-packages/sklearn/base.py:318: UserWarning: Trying to unpickle estimator OrdinalEncoder from version 1.1.1 when using version 1.2.2. This might lead to breaking code or invalid results. Use at your own risk. For more info please refer to:\n",
      "https://scikit-learn.org/stable/model_persistence.html#security-maintainability-limitations\n",
      "  warnings.warn(\n",
      "/home/ishanu/.local/lib/python3.10/site-packages/sklearn/base.py:318: UserWarning: Trying to unpickle estimator DecisionTreeRegressor from version 1.1.1 when using version 1.2.2. This might lead to breaking code or invalid results. Use at your own risk. For more info please refer to:\n",
      "https://scikit-learn.org/stable/model_persistence.html#security-maintainability-limitations\n",
      "  warnings.warn(\n",
      "/home/ishanu/.local/lib/python3.10/site-packages/sklearn/base.py:318: UserWarning: Trying to unpickle estimator RandomForestRegressor from version 1.1.1 when using version 1.2.2. This might lead to breaking code or invalid results. Use at your own risk. For more info please refer to:\n",
      "https://scikit-learn.org/stable/model_persistence.html#security-maintainability-limitations\n",
      "  warnings.warn(\n"
     ]
    }
   ],
   "source": [
    "OUTDIRf='trees_feeding_combined/'\n",
    "modelpathf='./publication_examples/qnets/feeding_combined.joblib'\n",
    "modelfc=load_qnet(modelpathf,gz=False)"
   ]
  },
  {
   "cell_type": "code",
   "execution_count": 31,
   "metadata": {},
   "outputs": [],
   "source": [
    "modelfc.viz_trees(tree_path=OUTDIRf,big_enough_threshold=0,format='png',edge_color='white',edge_label_color='white',color_alpha=.8,pen_width=4,text_color='white',edge_fontcolor='white')\n"
   ]
  },
  {
   "cell_type": "code",
   "execution_count": 32,
   "metadata": {},
   "outputs": [
    {
     "name": "stderr",
     "output_type": "stream",
     "text": [
      "/home/ishanu/.local/lib/python3.10/site-packages/sklearn/base.py:318: UserWarning: Trying to unpickle estimator OrdinalEncoder from version 1.1.1 when using version 1.2.2. This might lead to breaking code or invalid results. Use at your own risk. For more info please refer to:\n",
      "https://scikit-learn.org/stable/model_persistence.html#security-maintainability-limitations\n",
      "  warnings.warn(\n",
      "/home/ishanu/.local/lib/python3.10/site-packages/sklearn/base.py:318: UserWarning: Trying to unpickle estimator DecisionTreeRegressor from version 1.1.1 when using version 1.2.2. This might lead to breaking code or invalid results. Use at your own risk. For more info please refer to:\n",
      "https://scikit-learn.org/stable/model_persistence.html#security-maintainability-limitations\n",
      "  warnings.warn(\n",
      "/home/ishanu/.local/lib/python3.10/site-packages/sklearn/base.py:318: UserWarning: Trying to unpickle estimator RandomForestRegressor from version 1.1.1 when using version 1.2.2. This might lead to breaking code or invalid results. Use at your own risk. For more info please refer to:\n",
      "https://scikit-learn.org/stable/model_persistence.html#security-maintainability-limitations\n",
      "  warnings.warn(\n"
     ]
    }
   ],
   "source": [
    "OUTDIRH='trees_hypo/'\n",
    "modelpathH='./publication_examples/qnets/hypotheses_combined.joblib'\n",
    "modelH=load_qnet(modelpathH,gz=False)"
   ]
  },
  {
   "cell_type": "code",
   "execution_count": 33,
   "metadata": {},
   "outputs": [
    {
     "name": "stderr",
     "output_type": "stream",
     "text": [
      "/home/ishanu/.local/lib/python3.10/site-packages/pygraphviz/agraph.py:1402: RuntimeWarning: Warning: Unknown \"splines\" value: \"straight\" - ignored\n",
      "\n",
      "  warnings.warn(b\"\".join(errors).decode(self.encoding), RuntimeWarning)\n"
     ]
    }
   ],
   "source": [
    "modelH.viz_trees(tree_path=OUTDIRH,big_enough_threshold=0,format='png',edge_color='white',edge_label_color='white',color_alpha=.8,pen_width=4,text_color='white',edge_fontcolor='white')\n"
   ]
  },
  {
   "cell_type": "code",
   "execution_count": 39,
   "metadata": {},
   "outputs": [],
   "source": [
    "folder = OUTDIRH  # Replace with the path to your directory\n",
    "images = load_images_from_folder(folder)\n",
    "montage = create_montage(images, rows=8, background_color=(0, 0, 0), scale_images=True, target_size=(300, 300))\n",
    "montage.save('montageH.png')  # Save the montage\n"
   ]
  },
  {
   "cell_type": "code",
   "execution_count": null,
   "metadata": {},
   "outputs": [],
   "source": []
  }
 ],
 "metadata": {
  "kernelspec": {
   "display_name": "Python 3 (ipykernel)",
   "language": "python",
   "name": "python3"
  },
  "language_info": {
   "codemirror_mode": {
    "name": "ipython",
    "version": 3
   },
   "file_extension": ".py",
   "mimetype": "text/x-python",
   "name": "python",
   "nbconvert_exporter": "python",
   "pygments_lexer": "ipython3",
   "version": "3.10.8"
  }
 },
 "nbformat": 4,
 "nbformat_minor": 4
}
