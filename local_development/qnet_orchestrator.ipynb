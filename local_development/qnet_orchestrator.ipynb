{
 "cells": [
  {
   "cell_type": "code",
   "execution_count": 1,
   "metadata": {},
   "outputs": [],
   "source": [
    "import os\n",
    "import sys\n",
    "sys.path.insert(0, os.path.abspath('../../qbiome'))\n",
    "\n",
    "from data_formatter import DataFormatter\n",
    "from quantizer import Quantizer\n",
    "from qnet_orchestrator import QnetOrchestrator"
   ]
  },
  {
   "cell_type": "code",
   "execution_count": 2,
   "metadata": {},
   "outputs": [],
   "source": [
    "dirname = 'example_data/'\n",
    "data = dirname + 'SamplesByMetadata_otuDADA2_EMP_10249_ECAM_RSRC_TaxaRelativeAbundance.csv'\n",
    "meta = dirname + 'SamplesByMetadata_otuDADA2_EMP_10249_ECAM_RSRC_Characteristics.csv'"
   ]
  },
  {
   "cell_type": "markdown",
   "metadata": {},
   "source": [
    "# Instantiate the data formatter, the quantizer, and the qnet orchestrator"
   ]
  },
  {
   "cell_type": "code",
   "execution_count": 3,
   "metadata": {},
   "outputs": [],
   "source": [
    "formatter = DataFormatter()\n",
    "quantizer = Quantizer()\n",
    "qnet_orchestrator = QnetOrchestrator(quantizer)"
   ]
  },
  {
   "cell_type": "markdown",
   "metadata": {},
   "source": [
    "# Load, quantize, and convert the data to qnet input format"
   ]
  },
  {
   "cell_type": "code",
   "execution_count": 4,
   "metadata": {},
   "outputs": [
    {
     "name": "stdout",
     "output_type": "stream",
     "text": [
      "There are 29 unique biomes and 1216 unique samples\n",
      "There are 311 unique days\n",
      "There are 99 unique weeks\n"
     ]
    }
   ],
   "source": [
    "data = formatter.load_data(data, meta)\n",
    "quantized = quantizer.quantize_df(data)\n",
    "features, label_matrix = quantizer.get_qnet_inputs(quantized)"
   ]
  },
  {
   "cell_type": "code",
   "execution_count": 5,
   "metadata": {},
   "outputs": [
    {
     "data": {
      "text/plain": [
       "Index(['Acidobacteriota_1', 'Acidobacteriota_9', 'Acidobacteriota_27',\n",
       "       'Acidobacteriota_31', 'Acidobacteriota_35', 'Actinobacteriota_1',\n",
       "       'Actinobacteriota_2', 'Actinobacteriota_3', 'Actinobacteriota_5',\n",
       "       'Actinobacteriota_6',\n",
       "       ...\n",
       "       'unclassified_Bacteria_31', 'unclassified_Bacteria_34',\n",
       "       'unclassified_Bacteria_36', 'unclassified_Bacteria_40',\n",
       "       'unclassified_Bacteria_48', 'unclassified_Bacteria_57',\n",
       "       'unclassified_Bacteria_62', 'unclassified_Bacteria_79',\n",
       "       'unclassified_Bacteria_80', 'unclassified_Bacteria_88'],\n",
       "      dtype='object', length=621)"
      ]
     },
     "execution_count": 5,
     "metadata": {},
     "output_type": "execute_result"
    }
   ],
   "source": [
    "features"
   ]
  },
  {
   "cell_type": "code",
   "execution_count": 6,
   "metadata": {},
   "outputs": [
    {
     "data": {
      "text/plain": [
       "array([['', '', '', ..., '', '', ''],\n",
       "       ['', '', '', ..., '', '', ''],\n",
       "       ['', '', '', ..., '', '', ''],\n",
       "       ...,\n",
       "       ['', '', '', ..., '', '', ''],\n",
       "       ['', '', '', ..., '', '', ''],\n",
       "       ['E', '', '', ..., '', '', '']], dtype='<U1')"
      ]
     },
     "execution_count": 6,
     "metadata": {},
     "output_type": "execute_result"
    }
   ],
   "source": [
    "label_matrix"
   ]
  },
  {
   "cell_type": "markdown",
   "metadata": {},
   "source": [
    "# Train, save, and load the model"
   ]
  },
  {
   "cell_type": "code",
   "execution_count": 7,
   "metadata": {},
   "outputs": [],
   "source": [
    "qnet_orchestrator.model"
   ]
  },
  {
   "cell_type": "code",
   "execution_count": 8,
   "metadata": {},
   "outputs": [],
   "source": [
    "# should take < 5 min to run\n",
    "qnet_orchestrator.train_qnet(\n",
    "    features, label_matrix, alpha=0.2, min_samples_split=2, \n",
    "    out_fname='biome_net.joblib')"
   ]
  },
  {
   "cell_type": "code",
   "execution_count": 9,
   "metadata": {},
   "outputs": [
    {
     "data": {
      "text/plain": [
       "Index(['Acidobacteriota_1', 'Acidobacteriota_9', 'Acidobacteriota_27',\n",
       "       'Acidobacteriota_31', 'Acidobacteriota_35', 'Actinobacteriota_1',\n",
       "       'Actinobacteriota_2', 'Actinobacteriota_3', 'Actinobacteriota_5',\n",
       "       'Actinobacteriota_6',\n",
       "       ...\n",
       "       'unclassified_Bacteria_31', 'unclassified_Bacteria_34',\n",
       "       'unclassified_Bacteria_36', 'unclassified_Bacteria_40',\n",
       "       'unclassified_Bacteria_48', 'unclassified_Bacteria_57',\n",
       "       'unclassified_Bacteria_62', 'unclassified_Bacteria_79',\n",
       "       'unclassified_Bacteria_80', 'unclassified_Bacteria_88'],\n",
       "      dtype='object', length=621)"
      ]
     },
     "execution_count": 9,
     "metadata": {},
     "output_type": "execute_result"
    }
   ],
   "source": [
    "qnet_orchestrator.model.feature_names"
   ]
  },
  {
   "cell_type": "code",
   "execution_count": 10,
   "metadata": {},
   "outputs": [],
   "source": [
    "# this is to demonstrate loading a trained model\n",
    "qnet_orchestrator.model = None\n",
    "qnet_orchestrator.load_qnet('biome_net.joblib')"
   ]
  },
  {
   "cell_type": "code",
   "execution_count": 11,
   "metadata": {},
   "outputs": [
    {
     "data": {
      "text/plain": [
       "Index(['Acidobacteriota_1', 'Acidobacteriota_9', 'Acidobacteriota_27',\n",
       "       'Acidobacteriota_31', 'Acidobacteriota_35', 'Actinobacteriota_1',\n",
       "       'Actinobacteriota_2', 'Actinobacteriota_3', 'Actinobacteriota_5',\n",
       "       'Actinobacteriota_6',\n",
       "       ...\n",
       "       'unclassified_Bacteria_31', 'unclassified_Bacteria_34',\n",
       "       'unclassified_Bacteria_36', 'unclassified_Bacteria_40',\n",
       "       'unclassified_Bacteria_48', 'unclassified_Bacteria_57',\n",
       "       'unclassified_Bacteria_62', 'unclassified_Bacteria_79',\n",
       "       'unclassified_Bacteria_80', 'unclassified_Bacteria_88'],\n",
       "      dtype='object', length=621)"
      ]
     },
     "execution_count": 11,
     "metadata": {},
     "output_type": "execute_result"
    }
   ],
   "source": [
    "# we get the same feature names from the loaded model\n",
    "qnet_orchestrator.model.feature_names"
   ]
  },
  {
   "cell_type": "code",
   "execution_count": null,
   "metadata": {},
   "outputs": [],
   "source": []
  }
 ],
 "metadata": {
  "kernelspec": {
   "display_name": "Python 3",
   "language": "python",
   "name": "python3"
  },
  "language_info": {
   "codemirror_mode": {
    "name": "ipython",
    "version": 3
   },
   "file_extension": ".py",
   "mimetype": "text/x-python",
   "name": "python",
   "nbconvert_exporter": "python",
   "pygments_lexer": "ipython3",
   "version": "3.7.7"
  }
 },
 "nbformat": 4,
 "nbformat_minor": 4
}
