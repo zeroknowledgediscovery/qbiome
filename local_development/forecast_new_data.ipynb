{
 "cells": [
  {
   "cell_type": "code",
   "execution_count": 1,
   "metadata": {},
   "outputs": [],
   "source": [
    "import os\n",
    "import sys\n",
    "sys.path.insert(0, os.path.abspath('../../qbiome'))\n",
    "\n",
    "import numpy as np\n",
    "import pandas as pd\n",
    "import matplotlib.pyplot as plt\n",
    "import seaborn as sns\n",
    "sns.set_theme()\n",
    "plt.style.use('ggplot')\n",
    "\n",
    "from data_formatter import DataFormatter\n",
    "from quantizer import Quantizer\n",
    "from qnet_orchestrator import QnetOrchestrator\n",
    "from forecaster import Forecaster"
   ]
  },
  {
   "cell_type": "code",
   "execution_count": 2,
   "metadata": {},
   "outputs": [],
   "source": [
    "dirname = '../example_data/'\n",
    "data = dirname + 'SamplesByMetadata_otuDADA2_EMP_10249_ECAM_RSRC_TaxaRelativeAbundance.csv'\n",
    "meta = dirname + 'SamplesByMetadata_otuDADA2_EMP_10249_ECAM_RSRC_Characteristics.csv'"
   ]
  },
  {
   "cell_type": "markdown",
   "metadata": {},
   "source": [
    "# Instantiate the data formatter, quantizer, qnet orchestrator, and forecaster"
   ]
  },
  {
   "cell_type": "code",
   "execution_count": 3,
   "metadata": {},
   "outputs": [],
   "source": [
    "formatter = DataFormatter()\n",
    "quantizer = Quantizer()\n",
    "qnet_orchestrator = QnetOrchestrator(quantizer)\n",
    "forecaster = Forecaster(qnet_orchestrator)"
   ]
  },
  {
   "cell_type": "markdown",
   "metadata": {},
   "source": [
    "# Load, quantize, and convert the data to qnet input format"
   ]
  },
  {
   "cell_type": "code",
   "execution_count": 4,
   "metadata": {
    "scrolled": true
   },
   "outputs": [
    {
     "name": "stdout",
     "output_type": "stream",
     "text": [
      "There are 29 unique biomes and 1216 unique samples\n",
      "There are 311 unique days\n",
      "There are 99 unique weeks\n"
     ]
    }
   ],
   "source": [
    "data = formatter.load_data(data, meta)\n",
    "# populate the quantizer\n",
    "quantized = quantizer.quantize_df(data)\n",
    "features, label_matrix = quantizer.get_qnet_inputs(quantized)"
   ]
  },
  {
   "cell_type": "code",
   "execution_count": 5,
   "metadata": {},
   "outputs": [
    {
     "data": {
      "text/plain": [
       "(98, 621)"
      ]
     },
     "execution_count": 5,
     "metadata": {},
     "output_type": "execute_result"
    }
   ],
   "source": [
    "# how many weeks of data do we have?\n",
    "# how many biome_week feature names do we have?\n",
    "data.week.max(), len(features)"
   ]
  },
  {
   "cell_type": "code",
   "execution_count": 6,
   "metadata": {
    "scrolled": true
   },
   "outputs": [
    {
     "data": {
      "text/html": [
       "<div>\n",
       "<style scoped>\n",
       "    .dataframe tbody tr th:only-of-type {\n",
       "        vertical-align: middle;\n",
       "    }\n",
       "\n",
       "    .dataframe tbody tr th {\n",
       "        vertical-align: top;\n",
       "    }\n",
       "\n",
       "    .dataframe thead th {\n",
       "        text-align: right;\n",
       "    }\n",
       "</style>\n",
       "<table border=\"1\" class=\"dataframe\">\n",
       "  <thead>\n",
       "    <tr style=\"text-align: right;\">\n",
       "      <th></th>\n",
       "      <th>sample_id</th>\n",
       "      <th>subject_id</th>\n",
       "      <th>variable</th>\n",
       "      <th>week</th>\n",
       "      <th>value</th>\n",
       "    </tr>\n",
       "  </thead>\n",
       "  <tbody>\n",
       "    <tr>\n",
       "      <th>7</th>\n",
       "      <td>MBSMPL0020-6-10</td>\n",
       "      <td>1</td>\n",
       "      <td>Actinobacteriota</td>\n",
       "      <td>27</td>\n",
       "      <td>0.366650</td>\n",
       "    </tr>\n",
       "    <tr>\n",
       "      <th>8</th>\n",
       "      <td>MBSMPL0020-6-10</td>\n",
       "      <td>1</td>\n",
       "      <td>Bacteroidota</td>\n",
       "      <td>27</td>\n",
       "      <td>0.507248</td>\n",
       "    </tr>\n",
       "    <tr>\n",
       "      <th>9</th>\n",
       "      <td>MBSMPL0020-6-10</td>\n",
       "      <td>1</td>\n",
       "      <td>Campilobacterota</td>\n",
       "      <td>27</td>\n",
       "      <td>0.002032</td>\n",
       "    </tr>\n",
       "    <tr>\n",
       "      <th>10</th>\n",
       "      <td>MBSMPL0020-6-10</td>\n",
       "      <td>1</td>\n",
       "      <td>Desulfobacterota</td>\n",
       "      <td>27</td>\n",
       "      <td>0.005058</td>\n",
       "    </tr>\n",
       "    <tr>\n",
       "      <th>11</th>\n",
       "      <td>MBSMPL0020-6-10</td>\n",
       "      <td>1</td>\n",
       "      <td>Firmicutes</td>\n",
       "      <td>27</td>\n",
       "      <td>0.057767</td>\n",
       "    </tr>\n",
       "  </tbody>\n",
       "</table>\n",
       "</div>"
      ],
      "text/plain": [
       "          sample_id subject_id          variable  week     value\n",
       "7   MBSMPL0020-6-10          1  Actinobacteriota    27  0.366650\n",
       "8   MBSMPL0020-6-10          1      Bacteroidota    27  0.507248\n",
       "9   MBSMPL0020-6-10          1  Campilobacterota    27  0.002032\n",
       "10  MBSMPL0020-6-10          1  Desulfobacterota    27  0.005058\n",
       "11  MBSMPL0020-6-10          1        Firmicutes    27  0.057767"
      ]
     },
     "execution_count": 6,
     "metadata": {},
     "output_type": "execute_result"
    }
   ],
   "source": [
    "data.head()"
   ]
  },
  {
   "cell_type": "code",
   "execution_count": 7,
   "metadata": {},
   "outputs": [
    {
     "data": {
      "text/html": [
       "<div>\n",
       "<style scoped>\n",
       "    .dataframe tbody tr th:only-of-type {\n",
       "        vertical-align: middle;\n",
       "    }\n",
       "\n",
       "    .dataframe tbody tr th {\n",
       "        vertical-align: top;\n",
       "    }\n",
       "\n",
       "    .dataframe thead th {\n",
       "        text-align: right;\n",
       "    }\n",
       "</style>\n",
       "<table border=\"1\" class=\"dataframe\">\n",
       "  <thead>\n",
       "    <tr style=\"text-align: right;\">\n",
       "      <th></th>\n",
       "      <th>subject_id</th>\n",
       "      <th>Acidobacteriota_1</th>\n",
       "      <th>Acidobacteriota_9</th>\n",
       "      <th>Acidobacteriota_27</th>\n",
       "      <th>Acidobacteriota_31</th>\n",
       "      <th>Acidobacteriota_35</th>\n",
       "      <th>Actinobacteriota_1</th>\n",
       "      <th>Actinobacteriota_2</th>\n",
       "      <th>Actinobacteriota_3</th>\n",
       "      <th>Actinobacteriota_5</th>\n",
       "      <th>...</th>\n",
       "      <th>unclassified_Bacteria_31</th>\n",
       "      <th>unclassified_Bacteria_34</th>\n",
       "      <th>unclassified_Bacteria_36</th>\n",
       "      <th>unclassified_Bacteria_40</th>\n",
       "      <th>unclassified_Bacteria_48</th>\n",
       "      <th>unclassified_Bacteria_57</th>\n",
       "      <th>unclassified_Bacteria_62</th>\n",
       "      <th>unclassified_Bacteria_79</th>\n",
       "      <th>unclassified_Bacteria_80</th>\n",
       "      <th>unclassified_Bacteria_88</th>\n",
       "    </tr>\n",
       "  </thead>\n",
       "  <tbody>\n",
       "    <tr>\n",
       "      <th>0</th>\n",
       "      <td>1</td>\n",
       "      <td>NaN</td>\n",
       "      <td>NaN</td>\n",
       "      <td>NaN</td>\n",
       "      <td>NaN</td>\n",
       "      <td>NaN</td>\n",
       "      <td>A</td>\n",
       "      <td>NaN</td>\n",
       "      <td>E</td>\n",
       "      <td>NaN</td>\n",
       "      <td>...</td>\n",
       "      <td>NaN</td>\n",
       "      <td>NaN</td>\n",
       "      <td>NaN</td>\n",
       "      <td>NaN</td>\n",
       "      <td>NaN</td>\n",
       "      <td>NaN</td>\n",
       "      <td>NaN</td>\n",
       "      <td>NaN</td>\n",
       "      <td>NaN</td>\n",
       "      <td>NaN</td>\n",
       "    </tr>\n",
       "    <tr>\n",
       "      <th>1</th>\n",
       "      <td>10</td>\n",
       "      <td>NaN</td>\n",
       "      <td>NaN</td>\n",
       "      <td>NaN</td>\n",
       "      <td>NaN</td>\n",
       "      <td>NaN</td>\n",
       "      <td>A</td>\n",
       "      <td>NaN</td>\n",
       "      <td>NaN</td>\n",
       "      <td>E</td>\n",
       "      <td>...</td>\n",
       "      <td>NaN</td>\n",
       "      <td>NaN</td>\n",
       "      <td>NaN</td>\n",
       "      <td>NaN</td>\n",
       "      <td>NaN</td>\n",
       "      <td>NaN</td>\n",
       "      <td>NaN</td>\n",
       "      <td>NaN</td>\n",
       "      <td>NaN</td>\n",
       "      <td>NaN</td>\n",
       "    </tr>\n",
       "    <tr>\n",
       "      <th>2</th>\n",
       "      <td>11</td>\n",
       "      <td>NaN</td>\n",
       "      <td>NaN</td>\n",
       "      <td>NaN</td>\n",
       "      <td>NaN</td>\n",
       "      <td>NaN</td>\n",
       "      <td>A</td>\n",
       "      <td>NaN</td>\n",
       "      <td>NaN</td>\n",
       "      <td>NaN</td>\n",
       "      <td>...</td>\n",
       "      <td>NaN</td>\n",
       "      <td>NaN</td>\n",
       "      <td>NaN</td>\n",
       "      <td>NaN</td>\n",
       "      <td>NaN</td>\n",
       "      <td>NaN</td>\n",
       "      <td>NaN</td>\n",
       "      <td>NaN</td>\n",
       "      <td>NaN</td>\n",
       "      <td>NaN</td>\n",
       "    </tr>\n",
       "    <tr>\n",
       "      <th>3</th>\n",
       "      <td>12</td>\n",
       "      <td>NaN</td>\n",
       "      <td>NaN</td>\n",
       "      <td>NaN</td>\n",
       "      <td>NaN</td>\n",
       "      <td>NaN</td>\n",
       "      <td>D</td>\n",
       "      <td>NaN</td>\n",
       "      <td>NaN</td>\n",
       "      <td>B</td>\n",
       "      <td>...</td>\n",
       "      <td>NaN</td>\n",
       "      <td>NaN</td>\n",
       "      <td>NaN</td>\n",
       "      <td>NaN</td>\n",
       "      <td>NaN</td>\n",
       "      <td>NaN</td>\n",
       "      <td>NaN</td>\n",
       "      <td>NaN</td>\n",
       "      <td>NaN</td>\n",
       "      <td>NaN</td>\n",
       "    </tr>\n",
       "    <tr>\n",
       "      <th>4</th>\n",
       "      <td>14</td>\n",
       "      <td>NaN</td>\n",
       "      <td>NaN</td>\n",
       "      <td>NaN</td>\n",
       "      <td>NaN</td>\n",
       "      <td>NaN</td>\n",
       "      <td>A</td>\n",
       "      <td>NaN</td>\n",
       "      <td>NaN</td>\n",
       "      <td>A</td>\n",
       "      <td>...</td>\n",
       "      <td>NaN</td>\n",
       "      <td>NaN</td>\n",
       "      <td>NaN</td>\n",
       "      <td>NaN</td>\n",
       "      <td>NaN</td>\n",
       "      <td>C</td>\n",
       "      <td>NaN</td>\n",
       "      <td>NaN</td>\n",
       "      <td>NaN</td>\n",
       "      <td>NaN</td>\n",
       "    </tr>\n",
       "  </tbody>\n",
       "</table>\n",
       "<p>5 rows × 622 columns</p>\n",
       "</div>"
      ],
      "text/plain": [
       "  subject_id Acidobacteriota_1 Acidobacteriota_9 Acidobacteriota_27  \\\n",
       "0          1               NaN               NaN                NaN   \n",
       "1         10               NaN               NaN                NaN   \n",
       "2         11               NaN               NaN                NaN   \n",
       "3         12               NaN               NaN                NaN   \n",
       "4         14               NaN               NaN                NaN   \n",
       "\n",
       "  Acidobacteriota_31 Acidobacteriota_35 Actinobacteriota_1 Actinobacteriota_2  \\\n",
       "0                NaN                NaN                  A                NaN   \n",
       "1                NaN                NaN                  A                NaN   \n",
       "2                NaN                NaN                  A                NaN   \n",
       "3                NaN                NaN                  D                NaN   \n",
       "4                NaN                NaN                  A                NaN   \n",
       "\n",
       "  Actinobacteriota_3 Actinobacteriota_5  ... unclassified_Bacteria_31  \\\n",
       "0                  E                NaN  ...                      NaN   \n",
       "1                NaN                  E  ...                      NaN   \n",
       "2                NaN                NaN  ...                      NaN   \n",
       "3                NaN                  B  ...                      NaN   \n",
       "4                NaN                  A  ...                      NaN   \n",
       "\n",
       "  unclassified_Bacteria_34 unclassified_Bacteria_36 unclassified_Bacteria_40  \\\n",
       "0                      NaN                      NaN                      NaN   \n",
       "1                      NaN                      NaN                      NaN   \n",
       "2                      NaN                      NaN                      NaN   \n",
       "3                      NaN                      NaN                      NaN   \n",
       "4                      NaN                      NaN                      NaN   \n",
       "\n",
       "  unclassified_Bacteria_48 unclassified_Bacteria_57 unclassified_Bacteria_62  \\\n",
       "0                      NaN                      NaN                      NaN   \n",
       "1                      NaN                      NaN                      NaN   \n",
       "2                      NaN                      NaN                      NaN   \n",
       "3                      NaN                      NaN                      NaN   \n",
       "4                      NaN                        C                      NaN   \n",
       "\n",
       "  unclassified_Bacteria_79 unclassified_Bacteria_80 unclassified_Bacteria_88  \n",
       "0                      NaN                      NaN                      NaN  \n",
       "1                      NaN                      NaN                      NaN  \n",
       "2                      NaN                      NaN                      NaN  \n",
       "3                      NaN                      NaN                      NaN  \n",
       "4                      NaN                      NaN                      NaN  \n",
       "\n",
       "[5 rows x 622 columns]"
      ]
     },
     "execution_count": 7,
     "metadata": {},
     "output_type": "execute_result"
    }
   ],
   "source": [
    "quantized.head()"
   ]
  },
  {
   "cell_type": "markdown",
   "metadata": {},
   "source": [
    "# Construct a new subject"
   ]
  },
  {
   "cell_type": "code",
   "execution_count": 8,
   "metadata": {},
   "outputs": [],
   "source": [
    "BIOMES = ['Actinobacteriota', 'Bacteroidota', 'Firmicutes', 'Proteobacteria', 'unclassified_Bacteria']\n",
    "\n",
    "new_subject = pd.DataFrame({\n",
    "    'week': [1] * len(BIOMES),\n",
    "    'variable': BIOMES,\n",
    "    'value': np.random.rand(len(BIOMES))\n",
    "})"
   ]
  },
  {
   "cell_type": "code",
   "execution_count": 9,
   "metadata": {},
   "outputs": [
    {
     "data": {
      "text/html": [
       "<div>\n",
       "<style scoped>\n",
       "    .dataframe tbody tr th:only-of-type {\n",
       "        vertical-align: middle;\n",
       "    }\n",
       "\n",
       "    .dataframe tbody tr th {\n",
       "        vertical-align: top;\n",
       "    }\n",
       "\n",
       "    .dataframe thead th {\n",
       "        text-align: right;\n",
       "    }\n",
       "</style>\n",
       "<table border=\"1\" class=\"dataframe\">\n",
       "  <thead>\n",
       "    <tr style=\"text-align: right;\">\n",
       "      <th></th>\n",
       "      <th>week</th>\n",
       "      <th>variable</th>\n",
       "      <th>value</th>\n",
       "    </tr>\n",
       "  </thead>\n",
       "  <tbody>\n",
       "    <tr>\n",
       "      <th>0</th>\n",
       "      <td>1</td>\n",
       "      <td>Actinobacteriota</td>\n",
       "      <td>0.129319</td>\n",
       "    </tr>\n",
       "    <tr>\n",
       "      <th>1</th>\n",
       "      <td>1</td>\n",
       "      <td>Bacteroidota</td>\n",
       "      <td>0.122993</td>\n",
       "    </tr>\n",
       "    <tr>\n",
       "      <th>2</th>\n",
       "      <td>1</td>\n",
       "      <td>Firmicutes</td>\n",
       "      <td>0.916812</td>\n",
       "    </tr>\n",
       "    <tr>\n",
       "      <th>3</th>\n",
       "      <td>1</td>\n",
       "      <td>Proteobacteria</td>\n",
       "      <td>0.844172</td>\n",
       "    </tr>\n",
       "    <tr>\n",
       "      <th>4</th>\n",
       "      <td>1</td>\n",
       "      <td>unclassified_Bacteria</td>\n",
       "      <td>0.660276</td>\n",
       "    </tr>\n",
       "  </tbody>\n",
       "</table>\n",
       "</div>"
      ],
      "text/plain": [
       "   week               variable     value\n",
       "0     1       Actinobacteriota  0.129319\n",
       "1     1           Bacteroidota  0.122993\n",
       "2     1             Firmicutes  0.916812\n",
       "3     1         Proteobacteria  0.844172\n",
       "4     1  unclassified_Bacteria  0.660276"
      ]
     },
     "execution_count": 9,
     "metadata": {},
     "output_type": "execute_result"
    }
   ],
   "source": [
    "new_subject"
   ]
  },
  {
   "cell_type": "code",
   "execution_count": 10,
   "metadata": {},
   "outputs": [],
   "source": [
    "new_subject_quantized = quantizer.quantize_new_subject(new_subject, subject_id='101')"
   ]
  },
  {
   "cell_type": "code",
   "execution_count": 11,
   "metadata": {},
   "outputs": [
    {
     "data": {
      "text/html": [
       "<div>\n",
       "<style scoped>\n",
       "    .dataframe tbody tr th:only-of-type {\n",
       "        vertical-align: middle;\n",
       "    }\n",
       "\n",
       "    .dataframe tbody tr th {\n",
       "        vertical-align: top;\n",
       "    }\n",
       "\n",
       "    .dataframe thead th {\n",
       "        text-align: right;\n",
       "    }\n",
       "</style>\n",
       "<table border=\"1\" class=\"dataframe\">\n",
       "  <thead>\n",
       "    <tr style=\"text-align: right;\">\n",
       "      <th></th>\n",
       "      <th>subject_id</th>\n",
       "      <th>Acidobacteriota_1</th>\n",
       "      <th>Acidobacteriota_9</th>\n",
       "      <th>Acidobacteriota_27</th>\n",
       "      <th>Acidobacteriota_31</th>\n",
       "      <th>Acidobacteriota_35</th>\n",
       "      <th>Actinobacteriota_1</th>\n",
       "      <th>Actinobacteriota_2</th>\n",
       "      <th>Actinobacteriota_3</th>\n",
       "      <th>Actinobacteriota_5</th>\n",
       "      <th>...</th>\n",
       "      <th>unclassified_Bacteria_31</th>\n",
       "      <th>unclassified_Bacteria_34</th>\n",
       "      <th>unclassified_Bacteria_36</th>\n",
       "      <th>unclassified_Bacteria_40</th>\n",
       "      <th>unclassified_Bacteria_48</th>\n",
       "      <th>unclassified_Bacteria_57</th>\n",
       "      <th>unclassified_Bacteria_62</th>\n",
       "      <th>unclassified_Bacteria_79</th>\n",
       "      <th>unclassified_Bacteria_80</th>\n",
       "      <th>unclassified_Bacteria_88</th>\n",
       "    </tr>\n",
       "  </thead>\n",
       "  <tbody>\n",
       "    <tr>\n",
       "      <th>0</th>\n",
       "      <td>101</td>\n",
       "      <td>NaN</td>\n",
       "      <td>NaN</td>\n",
       "      <td>NaN</td>\n",
       "      <td>NaN</td>\n",
       "      <td>NaN</td>\n",
       "      <td>C</td>\n",
       "      <td>NaN</td>\n",
       "      <td>NaN</td>\n",
       "      <td>NaN</td>\n",
       "      <td>...</td>\n",
       "      <td>NaN</td>\n",
       "      <td>NaN</td>\n",
       "      <td>NaN</td>\n",
       "      <td>NaN</td>\n",
       "      <td>NaN</td>\n",
       "      <td>NaN</td>\n",
       "      <td>NaN</td>\n",
       "      <td>NaN</td>\n",
       "      <td>NaN</td>\n",
       "      <td>NaN</td>\n",
       "    </tr>\n",
       "  </tbody>\n",
       "</table>\n",
       "<p>1 rows × 622 columns</p>\n",
       "</div>"
      ],
      "text/plain": [
       "  subject_id Acidobacteriota_1 Acidobacteriota_9 Acidobacteriota_27  \\\n",
       "0        101               NaN               NaN                NaN   \n",
       "\n",
       "  Acidobacteriota_31 Acidobacteriota_35 Actinobacteriota_1 Actinobacteriota_2  \\\n",
       "0                NaN                NaN                  C                NaN   \n",
       "\n",
       "  Actinobacteriota_3 Actinobacteriota_5  ... unclassified_Bacteria_31  \\\n",
       "0                NaN                NaN  ...                      NaN   \n",
       "\n",
       "  unclassified_Bacteria_34 unclassified_Bacteria_36 unclassified_Bacteria_40  \\\n",
       "0                      NaN                      NaN                      NaN   \n",
       "\n",
       "  unclassified_Bacteria_48 unclassified_Bacteria_57 unclassified_Bacteria_62  \\\n",
       "0                      NaN                      NaN                      NaN   \n",
       "\n",
       "  unclassified_Bacteria_79 unclassified_Bacteria_80 unclassified_Bacteria_88  \n",
       "0                      NaN                      NaN                      NaN  \n",
       "\n",
       "[1 rows x 622 columns]"
      ]
     },
     "execution_count": 11,
     "metadata": {},
     "output_type": "execute_result"
    }
   ],
   "source": [
    "new_subject_quantized"
   ]
  },
  {
   "cell_type": "code",
   "execution_count": 12,
   "metadata": {},
   "outputs": [],
   "source": [
    "# get inputs to qnet\n",
    "_, label_matrix = quantizer.get_qnet_inputs(new_subject_quantized)"
   ]
  },
  {
   "cell_type": "markdown",
   "metadata": {},
   "source": [
    "# Load a pre-trained qnet"
   ]
  },
  {
   "cell_type": "code",
   "execution_count": 13,
   "metadata": {},
   "outputs": [],
   "source": [
    "qnet_orchestrator.load_qnet('../biome_net.joblib')"
   ]
  },
  {
   "cell_type": "markdown",
   "metadata": {},
   "source": [
    "# Forecast the new subject"
   ]
  },
  {
   "cell_type": "code",
   "execution_count": 14,
   "metadata": {},
   "outputs": [],
   "source": [
    "# takes 2 minutes to run\n",
    "forecasted = forecaster.forecast_data(\n",
    "    label_matrix, \n",
    "    start_week=1,\n",
    "#     end_week=data.week.max()\n",
    ")"
   ]
  },
  {
   "cell_type": "code",
   "execution_count": 15,
   "metadata": {},
   "outputs": [
    {
     "data": {
      "text/plain": [
       "<seaborn.axisgrid.FacetGrid at 0x7fbe0d7cee50>"
      ]
     },
     "execution_count": 15,
     "metadata": {},
     "output_type": "execute_result"
    },
    {
     "data": {
      "image/png": "[encoded data removed]",
      "text/plain": [
       "<Figure size 440.8x648 with 5 Axes>"
      ]
     },
     "metadata": {},
     "output_type": "display_data"
    }
   ],
   "source": [
    "plottable = forecasted[forecasted.variable.isin(BIOMES)]\n",
    "\n",
    "g = sns.FacetGrid(plottable, col='variable', col_wrap=2, sharey=False, margin_titles=True)\n",
    "g.map_dataframe(sns.lineplot, 'week', 'value', ci=None, marker='o',\n",
    "                    linewidth=2, alpha=0.75, markersize=5)\n",
    "g.set_titles(row_template = '{row_name}', col_template = '{col_name}')\n",
    "g.add_legend()"
   ]
  }
 ],
 "metadata": {
  "kernelspec": {
   "display_name": "qnet-dev",
   "language": "python",
   "name": "qnet-dev"
  },
  "language_info": {
   "codemirror_mode": {
    "name": "ipython",
    "version": 3
   },
   "file_extension": ".py",
   "mimetype": "text/x-python",
   "name": "python",
   "nbconvert_exporter": "python",
   "pygments_lexer": "ipython3",
   "version": "3.7.7"
  }
 },
 "nbformat": 4,
 "nbformat_minor": 4
}
